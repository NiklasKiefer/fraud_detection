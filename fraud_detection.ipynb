{
 "cells": [
  {
   "cell_type": "markdown",
   "id": "cc5e398f",
   "metadata": {},
   "source": [
    "# Project 3: Fraud Detection"
   ]
  },
  {
   "cell_type": "markdown",
   "id": "86ebcf70",
   "metadata": {},
   "source": [
    "In this third project, the main objective is to develop a fraud detection model capable of predicting fraudulent bank transactions. The implementation places particular emphasis on the following key areas:\n",
    "- Unsupervised learning\n",
    "- Semi-supervised learning\n",
    "- Dealing with class imbalance\n",
    "- Using advanced performance metrics to evaluate detection models under different inspection effort thresholds."
   ]
  },
  {
   "cell_type": "markdown",
   "id": "6245dec7",
   "metadata": {},
   "source": [
    "## Problem Understanding"
   ]
  },
  {
   "cell_type": "markdown",
   "id": "faed6f85",
   "metadata": {},
   "source": [
    "The subject of fraud has always been a problem for the financial sector and with the ongoing technological advance, the problem will only increase. According to the [ Alloy’s 2024 State of Fraud Benchmark Report](https://www.alloy.com/state-of-fraud-benchmark-report-2024), which has asked more than 400 descision-makers in fraud-related roles, 57% of banks, fintechs, and credit unions lost over $500K in direct fraud losses in 2023. These figures reflect only the direct losses from fraud. That is, the actual amounts successfully stolen through fraudulent activity. \n",
    "\n",
    "In the UK, 10% of companies have lost between €1 and €100,000; 26% between €100,001 and €500,000; 34% between €500,001 and €1,000,000; 24% between €1,000,001 and €10,000,000; and 1% have suffered losses exceeding €10,000,000 due to fraud. Only 7 % reported no fraud loss, or simply don't know if they have.\n",
    "\n",
    "Around 60% of the respondents reported an increase in the number of fraud attempts in consumer accounts compared to the previous year. Meanwhile, just over half the respondends have reported an increase in fraud attempts in business accounts.\n",
    "\n",
    "The [UK Finance Annual Fraud Report 2022](https://www.ukfinance.org.uk/system/files/2023-05/Annual%20Fraud%20Report%202023_0.pdf) reported a net total loss £1.2 bn across the collective banking and finance industry in 2022 alone. This shows the damaging effects of fraud and emphazises the importance of fraud detection to prevent the enormous amounts of anual loss.\n",
    "\n",
    "While the field has developed rapidly in the last few years, especially through the rise of artificial intelligence, there are still some challenges for successful fraud detection models. According to this article by the [Computer Science & IT Research Journal](https://fepbl.com/index.php/csitrj/article/view/1252), one major issue is the quality of datasets, especially due to the imbalance between fraudulent and legitimate activities, which can lead to biased or inaccurate predictions. Additionally, datasets suffer limited diversity or hidden biases, which skew model performances and undermine fairness. \n",
    "\n",
    "Overall, the problem of fraud and the importance of dealing with it through fraud detection systems is clear. The following sections of this notebook will focus on explring the data, understanding how to deal with class imbalance, as well as building and evaluating a fraud detection system using advanced techniques using unsupervised and semi-supervised learning."
   ]
  },
  {
   "cell_type": "code",
   "execution_count": 14,
   "id": "08db16c7",
   "metadata": {},
   "outputs": [],
   "source": [
    "# Includes\n",
    "from datetime import datetime\n",
    "import pandas as pd\n",
    "import numpy as np\n",
    "import seaborn as sns\n",
    "\n",
    "import matplotlib.pyplot as plt\n",
    "\n",
    "from sklearn.model_selection import train_test_split\n",
    "from sklearn.neighbors import KNeighborsClassifier\n",
    "from sklearn.ensemble import RandomForestClassifier"
   ]
  },
  {
   "cell_type": "markdown",
   "id": "00139087",
   "metadata": {},
   "source": [
    "## Understanding the Data"
   ]
  },
  {
   "cell_type": "markdown",
   "id": "07aa8faf",
   "metadata": {},
   "source": [
    "The first thing to do is to take a closer look at the data that will be used to train the model later. Then, the data will be split into a test-train-val split before any further analysis."
   ]
  },
  {
   "cell_type": "code",
   "execution_count": 2,
   "id": "00f40b92",
   "metadata": {},
   "outputs": [
    {
     "data": {
      "text/html": [
       "<div>\n",
       "<style scoped>\n",
       "    .dataframe tbody tr th:only-of-type {\n",
       "        vertical-align: middle;\n",
       "    }\n",
       "\n",
       "    .dataframe tbody tr th {\n",
       "        vertical-align: top;\n",
       "    }\n",
       "\n",
       "    .dataframe thead th {\n",
       "        text-align: right;\n",
       "    }\n",
       "</style>\n",
       "<table border=\"1\" class=\"dataframe\">\n",
       "  <thead>\n",
       "    <tr style=\"text-align: right;\">\n",
       "      <th></th>\n",
       "      <th>ID</th>\n",
       "      <th>Prod</th>\n",
       "      <th>Quant</th>\n",
       "      <th>Val</th>\n",
       "      <th>Insp</th>\n",
       "    </tr>\n",
       "  </thead>\n",
       "  <tbody>\n",
       "    <tr>\n",
       "      <th>1</th>\n",
       "      <td>v1</td>\n",
       "      <td>p1</td>\n",
       "      <td>182.0</td>\n",
       "      <td>1665.0</td>\n",
       "      <td>unkn</td>\n",
       "    </tr>\n",
       "    <tr>\n",
       "      <th>2</th>\n",
       "      <td>v2</td>\n",
       "      <td>p1</td>\n",
       "      <td>3072.0</td>\n",
       "      <td>8780.0</td>\n",
       "      <td>unkn</td>\n",
       "    </tr>\n",
       "    <tr>\n",
       "      <th>3</th>\n",
       "      <td>v3</td>\n",
       "      <td>p1</td>\n",
       "      <td>20393.0</td>\n",
       "      <td>76990.0</td>\n",
       "      <td>unkn</td>\n",
       "    </tr>\n",
       "    <tr>\n",
       "      <th>4</th>\n",
       "      <td>v4</td>\n",
       "      <td>p1</td>\n",
       "      <td>112.0</td>\n",
       "      <td>1100.0</td>\n",
       "      <td>unkn</td>\n",
       "    </tr>\n",
       "    <tr>\n",
       "      <th>5</th>\n",
       "      <td>v3</td>\n",
       "      <td>p1</td>\n",
       "      <td>6164.0</td>\n",
       "      <td>20260.0</td>\n",
       "      <td>unkn</td>\n",
       "    </tr>\n",
       "    <tr>\n",
       "      <th>...</th>\n",
       "      <td>...</td>\n",
       "      <td>...</td>\n",
       "      <td>...</td>\n",
       "      <td>...</td>\n",
       "      <td>...</td>\n",
       "    </tr>\n",
       "    <tr>\n",
       "      <th>411814</th>\n",
       "      <td>v5918</td>\n",
       "      <td>p4126</td>\n",
       "      <td>113.0</td>\n",
       "      <td>9330.0</td>\n",
       "      <td>unkn</td>\n",
       "    </tr>\n",
       "    <tr>\n",
       "      <th>411815</th>\n",
       "      <td>v2540</td>\n",
       "      <td>p4126</td>\n",
       "      <td>118.0</td>\n",
       "      <td>3355.0</td>\n",
       "      <td>unkn</td>\n",
       "    </tr>\n",
       "    <tr>\n",
       "      <th>411816</th>\n",
       "      <td>v5896</td>\n",
       "      <td>p4127</td>\n",
       "      <td>143.0</td>\n",
       "      <td>1835.0</td>\n",
       "      <td>unkn</td>\n",
       "    </tr>\n",
       "    <tr>\n",
       "      <th>411817</th>\n",
       "      <td>v1796</td>\n",
       "      <td>p4127</td>\n",
       "      <td>102.0</td>\n",
       "      <td>1445.0</td>\n",
       "      <td>unkn</td>\n",
       "    </tr>\n",
       "    <tr>\n",
       "      <th>411818</th>\n",
       "      <td>v2540</td>\n",
       "      <td>p4127</td>\n",
       "      <td>106.0</td>\n",
       "      <td>1275.0</td>\n",
       "      <td>unkn</td>\n",
       "    </tr>\n",
       "  </tbody>\n",
       "</table>\n",
       "<p>401146 rows × 5 columns</p>\n",
       "</div>"
      ],
      "text/plain": [
       "           ID   Prod    Quant      Val  Insp\n",
       "1          v1     p1    182.0   1665.0  unkn\n",
       "2          v2     p1   3072.0   8780.0  unkn\n",
       "3          v3     p1  20393.0  76990.0  unkn\n",
       "4          v4     p1    112.0   1100.0  unkn\n",
       "5          v3     p1   6164.0  20260.0  unkn\n",
       "...       ...    ...      ...      ...   ...\n",
       "411814  v5918  p4126    113.0   9330.0  unkn\n",
       "411815  v2540  p4126    118.0   3355.0  unkn\n",
       "411816  v5896  p4127    143.0   1835.0  unkn\n",
       "411817  v1796  p4127    102.0   1445.0  unkn\n",
       "411818  v2540  p4127    106.0   1275.0  unkn\n",
       "\n",
       "[401146 rows x 5 columns]"
      ]
     },
     "execution_count": 2,
     "metadata": {},
     "output_type": "execute_result"
    }
   ],
   "source": [
    "# Load data\n",
    "df = pd.read_csv(\"data/sales.csv\")\n",
    "df = df.set_index('Unnamed: 0') # set index\n",
    "df.index.name = None\n",
    "df"
   ]
  },
  {
   "cell_type": "code",
   "execution_count": null,
   "id": "b776fa63",
   "metadata": {},
   "outputs": [],
   "source": [
    "# # Seperate labeled and unlabeled data\n",
    "# labeled_df = df[df[\"Insp\"].isin([\"ok\", \"fraud\"])].copy()\n",
    "# unlabeled_df = df[df[\"Insp\"] == \"unkn\"].copy()\n",
    "\n",
    "# labeled_df\n",
    "\n",
    "# # Split into X and y\n",
    "# X = labeled_df.drop(columns=\"Insp\")\n",
    "# y = labeled_df[\"Insp\"].map({\"ok\": 0, \"fraud\": 1})  # convert to binary\n",
    "\n",
    "# # Split into train/test\n",
    "# X_train_labeled, X_test_labeled, y_train_labeled, y_test_labeled = train_test_split(\n",
    "#     X,\n",
    "#     y,\n",
    "#     test_size=0.25,\n",
    "#     random_state=123,\n",
    "#     stratify=y\n",
    "# )\n",
    "\n",
    "# use later during self supervised training"
   ]
  },
  {
   "cell_type": "markdown",
   "id": "950fa9ec",
   "metadata": {},
   "source": [
    "Before doing anything with the data, we split them into train and test set to prevent bias:"
   ]
  },
  {
   "cell_type": "code",
   "execution_count": 95,
   "id": "a5b8c57e",
   "metadata": {},
   "outputs": [],
   "source": [
    "y = df[\"Insp\"]\n",
    "X = df.drop(labels=[\"Insp\"], axis=1)\n",
    "\n",
    "X_train, X_test, y_train, y_test = train_test_split(\n",
    "    X,\n",
    "    y,\n",
    "    test_size=0.25,\n",
    "    random_state=123,\n",
    "    stratify=y\n",
    ")"
   ]
  },
  {
   "cell_type": "code",
   "execution_count": 97,
   "id": "10169033",
   "metadata": {},
   "outputs": [
    {
     "data": {
      "text/plain": [
       "array(['unkn', 'ok', 'fraud'], dtype=object)"
      ]
     },
     "execution_count": 97,
     "metadata": {},
     "output_type": "execute_result"
    }
   ],
   "source": [
    "y_train.unique()"
   ]
  },
  {
   "cell_type": "code",
   "execution_count": 98,
   "id": "c7361130",
   "metadata": {},
   "outputs": [
    {
     "name": "stdout",
     "output_type": "stream",
     "text": [
      "Amount of unique vendors:  5955\n",
      "Amount of unique products:  4548\n"
     ]
    }
   ],
   "source": [
    "print(\"Amount of unique vendors: \", len(X_train[\"ID\"].unique()))\n",
    "print(\"Amount of unique products: \", len(X_train[\"Prod\"].unique()))"
   ]
  },
  {
   "cell_type": "markdown",
   "id": "bb273930",
   "metadata": {},
   "source": [
    "The data shows around 6000 unique vendors and around 4500 unique products. This makes it harder to encode the values for the model training phase."
   ]
  },
  {
   "cell_type": "code",
   "execution_count": 99,
   "id": "4c5e9efa",
   "metadata": {},
   "outputs": [
    {
     "data": {
      "text/plain": [
       "ID       False\n",
       "Prod     False\n",
       "Quant     True\n",
       "Val       True\n",
       "dtype: bool"
      ]
     },
     "execution_count": 99,
     "metadata": {},
     "output_type": "execute_result"
    }
   ],
   "source": [
    "X_train.isnull().any()"
   ]
  },
  {
   "cell_type": "code",
   "execution_count": 100,
   "id": "41f2887e",
   "metadata": {},
   "outputs": [
    {
     "data": {
      "text/html": [
       "<div>\n",
       "<style scoped>\n",
       "    .dataframe tbody tr th:only-of-type {\n",
       "        vertical-align: middle;\n",
       "    }\n",
       "\n",
       "    .dataframe tbody tr th {\n",
       "        vertical-align: top;\n",
       "    }\n",
       "\n",
       "    .dataframe thead th {\n",
       "        text-align: right;\n",
       "    }\n",
       "</style>\n",
       "<table border=\"1\" class=\"dataframe\">\n",
       "  <thead>\n",
       "    <tr style=\"text-align: right;\">\n",
       "      <th></th>\n",
       "      <th>ID</th>\n",
       "      <th>Prod</th>\n",
       "      <th>Quant</th>\n",
       "      <th>Val</th>\n",
       "    </tr>\n",
       "  </thead>\n",
       "  <tbody>\n",
       "    <tr>\n",
       "      <th>342516</th>\n",
       "      <td>v614</td>\n",
       "      <td>p3478</td>\n",
       "      <td>NaN</td>\n",
       "      <td>1015.0</td>\n",
       "    </tr>\n",
       "    <tr>\n",
       "      <th>386456</th>\n",
       "      <td>v2694</td>\n",
       "      <td>p2126</td>\n",
       "      <td>NaN</td>\n",
       "      <td>1285.0</td>\n",
       "    </tr>\n",
       "    <tr>\n",
       "      <th>202471</th>\n",
       "      <td>v1981</td>\n",
       "      <td>p3164</td>\n",
       "      <td>NaN</td>\n",
       "      <td>1240.0</td>\n",
       "    </tr>\n",
       "    <tr>\n",
       "      <th>169552</th>\n",
       "      <td>v891</td>\n",
       "      <td>p3871</td>\n",
       "      <td>NaN</td>\n",
       "      <td>1035.0</td>\n",
       "    </tr>\n",
       "    <tr>\n",
       "      <th>302068</th>\n",
       "      <td>v1141</td>\n",
       "      <td>p1471</td>\n",
       "      <td>NaN</td>\n",
       "      <td>NaN</td>\n",
       "    </tr>\n",
       "    <tr>\n",
       "      <th>...</th>\n",
       "      <td>...</td>\n",
       "      <td>...</td>\n",
       "      <td>...</td>\n",
       "      <td>...</td>\n",
       "    </tr>\n",
       "    <tr>\n",
       "      <th>106715</th>\n",
       "      <td>v426</td>\n",
       "      <td>p2909</td>\n",
       "      <td>NaN</td>\n",
       "      <td>1015.0</td>\n",
       "    </tr>\n",
       "    <tr>\n",
       "      <th>93131</th>\n",
       "      <td>v1136</td>\n",
       "      <td>p1915</td>\n",
       "      <td>NaN</td>\n",
       "      <td>1020.0</td>\n",
       "    </tr>\n",
       "    <tr>\n",
       "      <th>197437</th>\n",
       "      <td>v819</td>\n",
       "      <td>p2693</td>\n",
       "      <td>NaN</td>\n",
       "      <td>1040.0</td>\n",
       "    </tr>\n",
       "    <tr>\n",
       "      <th>273015</th>\n",
       "      <td>v431</td>\n",
       "      <td>p3928</td>\n",
       "      <td>NaN</td>\n",
       "      <td>1065.0</td>\n",
       "    </tr>\n",
       "    <tr>\n",
       "      <th>269322</th>\n",
       "      <td>v5733</td>\n",
       "      <td>p3679</td>\n",
       "      <td>NaN</td>\n",
       "      <td>1030.0</td>\n",
       "    </tr>\n",
       "  </tbody>\n",
       "</table>\n",
       "<p>10586 rows × 4 columns</p>\n",
       "</div>"
      ],
      "text/plain": [
       "           ID   Prod  Quant     Val\n",
       "342516   v614  p3478    NaN  1015.0\n",
       "386456  v2694  p2126    NaN  1285.0\n",
       "202471  v1981  p3164    NaN  1240.0\n",
       "169552   v891  p3871    NaN  1035.0\n",
       "302068  v1141  p1471    NaN     NaN\n",
       "...       ...    ...    ...     ...\n",
       "106715   v426  p2909    NaN  1015.0\n",
       "93131   v1136  p1915    NaN  1020.0\n",
       "197437   v819  p2693    NaN  1040.0\n",
       "273015   v431  p3928    NaN  1065.0\n",
       "269322  v5733  p3679    NaN  1030.0\n",
       "\n",
       "[10586 rows x 4 columns]"
      ]
     },
     "execution_count": 100,
     "metadata": {},
     "output_type": "execute_result"
    }
   ],
   "source": [
    "null_rows = X_train[X_train.isnull().any(axis=1)]\n",
    "null_rows"
   ]
  },
  {
   "cell_type": "markdown",
   "id": "4356b7df",
   "metadata": {},
   "source": [
    "The data contains 10586 rows with NaN in either the quantity or value column. This is only a small portion of the data, therefore they could safely be removed. Despite that, the values could be estimated instead. For now, let's create a copy of the data with removed values and keep the dataframe including the NaN values too."
   ]
  },
  {
   "cell_type": "code",
   "execution_count": null,
   "id": "55a9f382",
   "metadata": {},
   "outputs": [],
   "source": [
    "X_train_cleaned = X_train.dropna() # clean just in case"
   ]
  },
  {
   "cell_type": "code",
   "execution_count": 102,
   "id": "e27776fc",
   "metadata": {},
   "outputs": [
    {
     "data": {
      "text/plain": [
       "Quant    10368\n",
       "Val        881\n",
       "dtype: int64"
      ]
     },
     "execution_count": 102,
     "metadata": {},
     "output_type": "execute_result"
    }
   ],
   "source": [
    "X_train.isnull().sum()[X_train.isnull().sum() > 0]"
   ]
  },
  {
   "cell_type": "code",
   "execution_count": 103,
   "id": "ab84cbe6",
   "metadata": {},
   "outputs": [
    {
     "name": "stdout",
     "output_type": "stream",
     "text": [
      "663 rows have missing values in two or more columns.\n"
     ]
    }
   ],
   "source": [
    "rows_with_multiple_nulls = X_train.isnull().sum(axis=1)\n",
    "num_rows = (rows_with_multiple_nulls >= 2).sum()\n",
    "print(f\"{num_rows} rows have missing values in two or more columns.\")"
   ]
  },
  {
   "cell_type": "markdown",
   "id": "64925634",
   "metadata": {},
   "source": [
    "NaN values seem to be more prevelant in the quantity column than in the value column, and with 663 rows with missing values in both column, most missing Val columns are also missing the quantity value. "
   ]
  },
  {
   "cell_type": "code",
   "execution_count": 105,
   "id": "604c7a02",
   "metadata": {},
   "outputs": [
    {
     "data": {
      "image/png": "[encoded data removed]",
      "text/plain": [
       "<Figure size 640x480 with 1 Axes>"
      ]
     },
     "metadata": {},
     "output_type": "display_data"
    }
   ],
   "source": [
    "counts = y_train.value_counts() # get value counts for each unique \"Insp\" value\n",
    "\n",
    "ax = counts.plot(kind=\"bar\") # create plot\n",
    "\n",
    "plt.xlabel(\"Inspection Status\")\n",
    "plt.ylabel(\"Count\")\n",
    "plt.title(\"Frequency of Inspection Status\")\n",
    "plt.xticks(rotation=0)\n",
    "\n",
    "# plot actual values\n",
    "for i, count in enumerate(counts):\n",
    "    plt.text(i, count + 0.5, str(count), ha='center', va='bottom', fontsize=10)\n",
    "\n",
    "plt.tight_layout()\n",
    "plt.show()\n"
   ]
  },
  {
   "cell_type": "markdown",
   "id": "e2509c87",
   "metadata": {},
   "source": [
    "The data is consists of a transaction Id(\"ID\"), the products(\"Prod\") bought with a quantity(\"Quant\") and a the corresponding value(\"Val\") spent during the transaction. For training, the id will not be necessary, but the rest can be used for preictions. A inspected value(\"Insp\") flags the transaction as 'ok', 'fraud', or as 'unknown'. When looking at the value distribution, it can be seen that there is a significant amount of unknown data, and a small amount of data that is actually flagged as okay or fraudulent. This data imbalance needs to be addressed later.\n"
   ]
  },
  {
   "cell_type": "code",
   "execution_count": 111,
   "id": "4beacb27",
   "metadata": {},
   "outputs": [
    {
     "data": {
      "image/png": "[encoded data removed]",
      "text/plain": [
       "<Figure size 640x480 with 1 Axes>"
      ]
     },
     "metadata": {},
     "output_type": "display_data"
    }
   ],
   "source": [
    "# val distribution\n",
    "sns.histplot(X_train[\"Val\"] / X_train[\"Quant\"], bins=range(100, 2000, 10))\n",
    "plt.title(\"Distribution of 'Val'\")\n",
    "plt.xlabel(\"Val\")\n",
    "plt.ylabel(\"Frequency\")\n",
    "plt.show()"
   ]
  },
  {
   "cell_type": "markdown",
   "id": "fe29b9bb",
   "metadata": {},
   "source": [
    "The value distribution exposes strong tailed skewness to the left, which makes it harder to read this plot. This is to be expected, as in a real life scenario, smaller transactions are more common than larger ones. Apart from the value distribution, the quantity distribution looks like this:"
   ]
  },
  {
   "cell_type": "code",
   "execution_count": 112,
   "id": "72deb8e5",
   "metadata": {},
   "outputs": [
    {
     "data": {
      "image/png": "[encoded data removed]",
      "text/plain": [
       "<Figure size 640x480 with 1 Axes>"
      ]
     },
     "metadata": {},
     "output_type": "display_data"
    }
   ],
   "source": [
    "# quant distribution\n",
    "sns.histplot(X_train[\"Quant\"], bins=range(100, 2000, 10))\n",
    "plt.title(\"Distribution of 'Quant'\")\n",
    "plt.xlabel(\"Quant\")\n",
    "plt.ylabel(\"Frequency\")\n",
    "plt.show()"
   ]
  },
  {
   "cell_type": "markdown",
   "id": "0cd3b5d7",
   "metadata": {},
   "source": [
    "The quantity distribution shows similar results to the value distribution, it is highly skewed to the left side. Overall, the skewness is not necessarily bad, as it represents real life circumstances. Despite that, removing the skewness could still be considered in case of bad prediction performance later.\n",
    "\n",
    "Now let's look at the number of transactions per vendor as well as per product:"
   ]
  },
  {
   "cell_type": "code",
   "execution_count": 113,
   "id": "7ecbf230",
   "metadata": {},
   "outputs": [
    {
     "data": {
      "image/png": "[encoded data removed]",
      "text/plain": [
       "<Figure size 640x480 with 1 Axes>"
      ]
     },
     "metadata": {},
     "output_type": "display_data"
    }
   ],
   "source": [
    "# transactions per vendor\n",
    "vendor_counts = X_train.groupby(\"ID\").size().sort_values(ascending=False)\n",
    "\n",
    "# plot\n",
    "vendor_counts.head(100).plot(kind=\"bar\")\n",
    "plt.title(\"Top 100 Vendors by Number of Transactions\")\n",
    "plt.ylabel(\"Number of Transactions\")\n",
    "plt.xlabel(\"Vendor\")\n",
    "plt.xticks([], [])  # remove massive amount of ticks\n",
    "plt.xticks(rotation=45)\n",
    "plt.show()"
   ]
  },
  {
   "cell_type": "code",
   "execution_count": 114,
   "id": "dfce448c",
   "metadata": {},
   "outputs": [
    {
     "data": {
      "image/png": "[encoded data removed]",
      "text/plain": [
       "<Figure size 640x480 with 1 Axes>"
      ]
     },
     "metadata": {},
     "output_type": "display_data"
    }
   ],
   "source": [
    "# transactions per product\n",
    "prod_counts = X_train.groupby(\"Prod\").size().sort_values(ascending=False)\n",
    "\n",
    "# plot\n",
    "vendor_counts.head(100).plot(kind=\"bar\")\n",
    "plt.title(\"Top 100 Products by Number of Transactions\")\n",
    "plt.ylabel(\"Number of Transactions\")\n",
    "plt.xlabel(\"Product\")\n",
    "plt.xticks([], [])  # remove massive amount of ticks\n",
    "plt.xticks(rotation=45)\n",
    "plt.show()"
   ]
  },
  {
   "cell_type": "markdown",
   "id": "8c3a9c4c",
   "metadata": {},
   "source": [
    "Plotting the top 100 vendors/products by number of transactions reveals long tailed skewness again, just like before during the value and quantity distribution. This is again applicable for real life scenario, where a small percentage of customers make far more transactions than the rest. Although this data represents a real life scenario, it could lead to some problems later, during the semi-supervised learning approaches. Training the model on data that is heavily skewed towards a small amount of costumers may have a strong bias towards them. Therefore, some pre-processing will be necessary in order to prevent this from happening."
   ]
  },
  {
   "cell_type": "markdown",
   "id": "146623b6",
   "metadata": {},
   "source": [
    "## Data Grouping and Feature Engineering"
   ]
  },
  {
   "cell_type": "markdown",
   "id": "01c93f3e",
   "metadata": {},
   "source": [
    "In this section, some data grouping and feature engineering is performed before training a model. Due to the fact that there are so many differnet products present in the data, grouping transactions per product might improve prediction quality."
   ]
  },
  {
   "cell_type": "code",
   "execution_count": 110,
   "id": "64bfb7c8",
   "metadata": {},
   "outputs": [],
   "source": [
    "X_train['Uprice'] = X_train['Val'] / X_train['Quant']"
   ]
  },
  {
   "cell_type": "code",
   "execution_count": 134,
   "id": "752145d1",
   "metadata": {},
   "outputs": [
    {
     "data": {
      "image/png": "[encoded data removed]",
      "text/plain": [
       "<Figure size 640x480 with 1 Axes>"
      ]
     },
     "metadata": {},
     "output_type": "display_data"
    }
   ],
   "source": [
    "# plot\n",
    "sns.histplot(X_train[\"Uprice\"], bins=range(1,1000,5))\n",
    "plt.title(\"Distribution of Unit Price\")\n",
    "plt.xlabel(\"Unit Price\")\n",
    "plt.ylabel(\"Frequency\")\n",
    "plt.show()"
   ]
  },
  {
   "cell_type": "markdown",
   "id": "0786e45e",
   "metadata": {},
   "source": [
    "## Semi-Supervised Learning Approaches\n"
   ]
  },
  {
   "cell_type": "markdown",
   "id": "9d9cac5e",
   "metadata": {},
   "source": [
    "In this section, some semi-supervised learning techniques are implemented, that try to deal with the problem of inbalance in the data. To start things off, a self supervised training is used. In this approach, a model is trained only on the labeled data that is available. After that, the most confident predictions will be added to the labeled data. This way, new labeled data can be created, which makes the model more balanced. Now let's start with a random forest model as baseline."
   ]
  },
  {
   "cell_type": "code",
   "execution_count": 15,
   "id": "446e1436",
   "metadata": {},
   "outputs": [
    {
     "ename": "ValueError",
     "evalue": "could not convert string to float: 'v1081'",
     "output_type": "error",
     "traceback": [
      "\u001b[31m---------------------------------------------------------------------------\u001b[39m",
      "\u001b[31mValueError\u001b[39m                                Traceback (most recent call last)",
      "\u001b[32m~\\AppData\\Local\\Temp\\ipykernel_33952\\4028694871.py\u001b[39m in \u001b[36m?\u001b[39m\u001b[34m()\u001b[39m\n\u001b[32m      1\u001b[39m threshhold = \u001b[32m0.95\u001b[39m \u001b[38;5;66;03m# 95% confidence threshhold for predictions\u001b[39;00m\n\u001b[32m      2\u001b[39m \n\u001b[32m      3\u001b[39m rf = RandomForestClassifier(n_estimators=\u001b[32m100\u001b[39m, random_state=\u001b[32m123\u001b[39m)\n\u001b[32m----> \u001b[39m\u001b[32m4\u001b[39m rf.fit(X_train_labeled, y_train_labeled) \u001b[38;5;66;03m# train on labeled data\u001b[39;00m\n\u001b[32m      5\u001b[39m \n\u001b[32m      6\u001b[39m pred = rf.predict_proba(unlabeled_df[X.columns])[:, \u001b[32m1\u001b[39m] \u001b[38;5;66;03m# predict unlabeled data\u001b[39;00m\n",
      "\u001b[32mc:\\Users\\nikla\\miniconda3\\envs\\global_env\\Lib\\site-packages\\sklearn\\base.py\u001b[39m in \u001b[36m?\u001b[39m\u001b[34m(estimator, *args, **kwargs)\u001b[39m\n\u001b[32m   1385\u001b[39m                 skip_parameter_validation=(\n\u001b[32m   1386\u001b[39m                     prefer_skip_nested_validation \u001b[38;5;28;01mor\u001b[39;00m global_skip_validation\n\u001b[32m   1387\u001b[39m                 )\n\u001b[32m   1388\u001b[39m             ):\n\u001b[32m-> \u001b[39m\u001b[32m1389\u001b[39m                 \u001b[38;5;28;01mreturn\u001b[39;00m fit_method(estimator, *args, **kwargs)\n",
      "\u001b[32mc:\\Users\\nikla\\miniconda3\\envs\\global_env\\Lib\\site-packages\\sklearn\\ensemble\\_forest.py\u001b[39m in \u001b[36m?\u001b[39m\u001b[34m(self, X, y, sample_weight)\u001b[39m\n\u001b[32m    356\u001b[39m         \u001b[38;5;66;03m# Validate or convert input data\u001b[39;00m\n\u001b[32m    357\u001b[39m         \u001b[38;5;28;01mif\u001b[39;00m issparse(y):\n\u001b[32m    358\u001b[39m             \u001b[38;5;28;01mraise\u001b[39;00m ValueError(\u001b[33m\"sparse multilabel-indicator for y is not supported.\"\u001b[39m)\n\u001b[32m    359\u001b[39m \n\u001b[32m--> \u001b[39m\u001b[32m360\u001b[39m         X, y = validate_data(\n\u001b[32m    361\u001b[39m             self,\n\u001b[32m    362\u001b[39m             X,\n\u001b[32m    363\u001b[39m             y,\n",
      "\u001b[32mc:\\Users\\nikla\\miniconda3\\envs\\global_env\\Lib\\site-packages\\sklearn\\utils\\validation.py\u001b[39m in \u001b[36m?\u001b[39m\u001b[34m(_estimator, X, y, reset, validate_separately, skip_check_array, **check_params)\u001b[39m\n\u001b[32m   2957\u001b[39m             \u001b[38;5;28;01mif\u001b[39;00m \u001b[33m\"estimator\"\u001b[39m \u001b[38;5;28;01mnot\u001b[39;00m \u001b[38;5;28;01min\u001b[39;00m check_y_params:\n\u001b[32m   2958\u001b[39m                 check_y_params = {**default_check_params, **check_y_params}\n\u001b[32m   2959\u001b[39m             y = check_array(y, input_name=\u001b[33m\"y\"\u001b[39m, **check_y_params)\n\u001b[32m   2960\u001b[39m         \u001b[38;5;28;01melse\u001b[39;00m:\n\u001b[32m-> \u001b[39m\u001b[32m2961\u001b[39m             X, y = check_X_y(X, y, **check_params)\n\u001b[32m   2962\u001b[39m         out = X, y\n\u001b[32m   2963\u001b[39m \n\u001b[32m   2964\u001b[39m     \u001b[38;5;28;01mif\u001b[39;00m \u001b[38;5;28;01mnot\u001b[39;00m no_val_X \u001b[38;5;28;01mand\u001b[39;00m check_params.get(\u001b[33m\"ensure_2d\"\u001b[39m, \u001b[38;5;28;01mTrue\u001b[39;00m):\n",
      "\u001b[32mc:\\Users\\nikla\\miniconda3\\envs\\global_env\\Lib\\site-packages\\sklearn\\utils\\validation.py\u001b[39m in \u001b[36m?\u001b[39m\u001b[34m(X, y, accept_sparse, accept_large_sparse, dtype, order, copy, force_writeable, force_all_finite, ensure_all_finite, ensure_2d, allow_nd, multi_output, ensure_min_samples, ensure_min_features, y_numeric, estimator)\u001b[39m\n\u001b[32m   1366\u001b[39m         )\n\u001b[32m   1367\u001b[39m \n\u001b[32m   1368\u001b[39m     ensure_all_finite = _deprecate_force_all_finite(force_all_finite, ensure_all_finite)\n\u001b[32m   1369\u001b[39m \n\u001b[32m-> \u001b[39m\u001b[32m1370\u001b[39m     X = check_array(\n\u001b[32m   1371\u001b[39m         X,\n\u001b[32m   1372\u001b[39m         accept_sparse=accept_sparse,\n\u001b[32m   1373\u001b[39m         accept_large_sparse=accept_large_sparse,\n",
      "\u001b[32mc:\\Users\\nikla\\miniconda3\\envs\\global_env\\Lib\\site-packages\\sklearn\\utils\\validation.py\u001b[39m in \u001b[36m?\u001b[39m\u001b[34m(array, accept_sparse, accept_large_sparse, dtype, order, copy, force_writeable, force_all_finite, ensure_all_finite, ensure_non_negative, ensure_2d, allow_nd, ensure_min_samples, ensure_min_features, estimator, input_name)\u001b[39m\n\u001b[32m   1052\u001b[39m                         )\n\u001b[32m   1053\u001b[39m                     array = xp.astype(array, dtype, copy=\u001b[38;5;28;01mFalse\u001b[39;00m)\n\u001b[32m   1054\u001b[39m                 \u001b[38;5;28;01melse\u001b[39;00m:\n\u001b[32m   1055\u001b[39m                     array = _asarray_with_order(array, order=order, dtype=dtype, xp=xp)\n\u001b[32m-> \u001b[39m\u001b[32m1056\u001b[39m             \u001b[38;5;28;01mexcept\u001b[39;00m ComplexWarning \u001b[38;5;28;01mas\u001b[39;00m complex_warning:\n\u001b[32m   1057\u001b[39m                 raise ValueError(\n\u001b[32m   1058\u001b[39m                     \u001b[33m\"Complex data not supported\\n{}\\n\"\u001b[39m.format(array)\n\u001b[32m   1059\u001b[39m                 ) from complex_warning\n",
      "\u001b[32mc:\\Users\\nikla\\miniconda3\\envs\\global_env\\Lib\\site-packages\\sklearn\\utils\\_array_api.py\u001b[39m in \u001b[36m?\u001b[39m\u001b[34m(array, dtype, order, copy, xp, device)\u001b[39m\n\u001b[32m    835\u001b[39m         \u001b[38;5;66;03m# Use NumPy API to support order\u001b[39;00m\n\u001b[32m    836\u001b[39m         \u001b[38;5;28;01mif\u001b[39;00m copy \u001b[38;5;28;01mis\u001b[39;00m \u001b[38;5;28;01mTrue\u001b[39;00m:\n\u001b[32m    837\u001b[39m             array = numpy.array(array, order=order, dtype=dtype)\n\u001b[32m    838\u001b[39m         \u001b[38;5;28;01melse\u001b[39;00m:\n\u001b[32m--> \u001b[39m\u001b[32m839\u001b[39m             array = numpy.asarray(array, order=order, dtype=dtype)\n\u001b[32m    840\u001b[39m \n\u001b[32m    841\u001b[39m         \u001b[38;5;66;03m# At this point array is a NumPy ndarray. We convert it to an array\u001b[39;00m\n\u001b[32m    842\u001b[39m         \u001b[38;5;66;03m# container that is consistent with the input's namespace.\u001b[39;00m\n",
      "\u001b[32mc:\\Users\\nikla\\miniconda3\\envs\\global_env\\Lib\\site-packages\\pandas\\core\\generic.py\u001b[39m in \u001b[36m?\u001b[39m\u001b[34m(self, dtype, copy)\u001b[39m\n\u001b[32m   2149\u001b[39m     def __array__(\n\u001b[32m   2150\u001b[39m         self, dtype: npt.DTypeLike | \u001b[38;5;28;01mNone\u001b[39;00m = \u001b[38;5;28;01mNone\u001b[39;00m, copy: bool_t | \u001b[38;5;28;01mNone\u001b[39;00m = \u001b[38;5;28;01mNone\u001b[39;00m\n\u001b[32m   2151\u001b[39m     ) -> np.ndarray:\n\u001b[32m   2152\u001b[39m         values = self._values\n\u001b[32m-> \u001b[39m\u001b[32m2153\u001b[39m         arr = np.asarray(values, dtype=dtype)\n\u001b[32m   2154\u001b[39m         if (\n\u001b[32m   2155\u001b[39m             astype_is_view(values.dtype, arr.dtype)\n\u001b[32m   2156\u001b[39m             \u001b[38;5;28;01mand\u001b[39;00m using_copy_on_write()\n",
      "\u001b[31mValueError\u001b[39m: could not convert string to float: 'v1081'"
     ]
    }
   ],
   "source": [
    "threshhold = 0.95 # 95% confidence threshhold for predictions\n",
    "\n",
    "rf = RandomForestClassifier(n_estimators=100, random_state=123)\n",
    "rf.fit(X_train_labeled, y_train_labeled) # train on labeled data\n",
    "\n",
    "pred = rf.predict_proba(unlabeled_df[X.columns])[:, 1] # predict unlabeled data "
   ]
  }
 ],
 "metadata": {
  "kernelspec": {
   "display_name": "global_env",
   "language": "python",
   "name": "python3"
  },
  "language_info": {
   "codemirror_mode": {
    "name": "ipython",
    "version": 3
   },
   "file_extension": ".py",
   "mimetype": "text/x-python",
   "name": "python",
   "nbconvert_exporter": "python",
   "pygments_lexer": "ipython3",
   "version": "3.11.11"
  }
 },
 "nbformat": 4,
 "nbformat_minor": 5
}
