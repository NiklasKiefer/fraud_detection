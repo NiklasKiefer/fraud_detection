{
 "cells": [
  {
   "cell_type": "markdown",
   "id": "cc5e398f",
   "metadata": {},
   "source": [
    "# Project 3: Fraud Detection"
   ]
  },
  {
   "cell_type": "markdown",
   "id": "86ebcf70",
   "metadata": {},
   "source": [
    "In this third project, the main objective is to develop a fraud detection model capable of predicting fraudulent bank transactions. The implementation places particular emphasis on the following key areas:\n",
    "- Unsupervised learning\n",
    "- Semi-supervised learning\n",
    "- Dealing with class imbalance\n",
    "- Using advanced performance metrics to evaluate detection models under different inspection effort thresholds."
   ]
  },
  {
   "cell_type": "markdown",
   "id": "6245dec7",
   "metadata": {},
   "source": [
    "## Problem Understanding"
   ]
  },
  {
   "cell_type": "markdown",
   "id": "faed6f85",
   "metadata": {},
   "source": [
    "The subject of fraud has always been a problem for the financial sector and with the ongoing technological advance, the problem will only increase. According to the [ Alloy’s 2024 State of Fraud Benchmark Report](https://www.alloy.com/state-of-fraud-benchmark-report-2024), which has asked more than 400 descision-makers in fraud-related roles, 57% of banks, fintechs, and credit unions lost over $500K in direct fraud losses in 2023. These figures reflect only the direct losses from fraud. That is, the actual amounts successfully stolen through fraudulent activity. \n",
    "\n",
    "In the UK, 10% of companies have lost between €1 and €100,000; 26% between €100,001 and €500,000; 34% between €500,001 and €1,000,000; 24% between €1,000,001 and €10,000,000; and 1% have suffered losses exceeding €10,000,000 due to fraud. Only 7 % reported no fraud loss, or simply don't know if they have.\n",
    "\n",
    "Around 60% of the respondents reported an increase in the number of fraud attempts in consumer accounts compared to the previous year. Meanwhile, just over half the respondends have reported an increase in fraud attempts in business accounts.\n",
    "\n",
    "The [UK Finance Annual Fraud Report 2022](https://www.ukfinance.org.uk/system/files/2023-05/Annual%20Fraud%20Report%202023_0.pdf) reported a net total loss £1.2 bn across the collective banking and finance industry in 2022 alone. This shows the damaging effects of fraud and emphazises the importance of fraud detection to prevent the enormous amounts of anual loss.\n",
    "\n",
    "While the field has developed rapidly in the last few years, especially through the rise of artificial intelligence, there are still some challenges for successful fraud detection models. According to this article by the [Computer Science & IT Research Journal](https://fepbl.com/index.php/csitrj/article/view/1252), one major issue is the quality of datasets, especially due to the imbalance between fraudulent and legitimate activities, which can lead to biased or inaccurate predictions. Additionally, datasets suffer limited diversity or hidden biases, which skew model performances and undermine fairness. \n",
    "\n",
    "Overall, the problem of fraud and the importance of dealing with it through fraud detection systems is clear. The following sections of this notebook will focus on explring the data, understanding how to deal with class imbalance, as well as building and evaluating a fraud detection system using advanced techniques using unsupervised and semi-supervised learning."
   ]
  },
  {
   "cell_type": "code",
   "execution_count": 4,
   "id": "08db16c7",
   "metadata": {},
   "outputs": [],
   "source": [
    "# Includes\n",
    "from datetime import datetime\n",
    "import pandas as pd\n",
    "import numpy as np\n",
    "import seaborn as sns\n",
    "\n",
    "import matplotlib.pyplot as plt\n",
    "\n",
    "from sklearn.model_selection import train_test_split\n",
    "from sklearn.neighbors import KNeighborsClassifier\n",
    "from sklearn.ensemble import RandomForestClassifier\n",
    "\n",
    "from scipy.stats import ks_2samp"
   ]
  },
  {
   "cell_type": "markdown",
   "id": "00139087",
   "metadata": {},
   "source": [
    "## Understanding the Data"
   ]
  },
  {
   "cell_type": "markdown",
   "id": "07aa8faf",
   "metadata": {},
   "source": [
    "The first thing to do is to take a closer look at the data that will be used to train the model later. Then, the data will be split into a test-train-val split before any further analysis."
   ]
  },
  {
   "cell_type": "code",
   "execution_count": 111,
   "id": "00f40b92",
   "metadata": {},
   "outputs": [
    {
     "data": {
      "text/html": [
       "<div>\n",
       "<style scoped>\n",
       "    .dataframe tbody tr th:only-of-type {\n",
       "        vertical-align: middle;\n",
       "    }\n",
       "\n",
       "    .dataframe tbody tr th {\n",
       "        vertical-align: top;\n",
       "    }\n",
       "\n",
       "    .dataframe thead th {\n",
       "        text-align: right;\n",
       "    }\n",
       "</style>\n",
       "<table border=\"1\" class=\"dataframe\">\n",
       "  <thead>\n",
       "    <tr style=\"text-align: right;\">\n",
       "      <th></th>\n",
       "      <th>ID</th>\n",
       "      <th>Prod</th>\n",
       "      <th>Quant</th>\n",
       "      <th>Val</th>\n",
       "      <th>Insp</th>\n",
       "    </tr>\n",
       "  </thead>\n",
       "  <tbody>\n",
       "    <tr>\n",
       "      <th>1</th>\n",
       "      <td>v1</td>\n",
       "      <td>p1</td>\n",
       "      <td>182.0</td>\n",
       "      <td>1665.0</td>\n",
       "      <td>unkn</td>\n",
       "    </tr>\n",
       "    <tr>\n",
       "      <th>2</th>\n",
       "      <td>v2</td>\n",
       "      <td>p1</td>\n",
       "      <td>3072.0</td>\n",
       "      <td>8780.0</td>\n",
       "      <td>unkn</td>\n",
       "    </tr>\n",
       "    <tr>\n",
       "      <th>3</th>\n",
       "      <td>v3</td>\n",
       "      <td>p1</td>\n",
       "      <td>20393.0</td>\n",
       "      <td>76990.0</td>\n",
       "      <td>unkn</td>\n",
       "    </tr>\n",
       "    <tr>\n",
       "      <th>4</th>\n",
       "      <td>v4</td>\n",
       "      <td>p1</td>\n",
       "      <td>112.0</td>\n",
       "      <td>1100.0</td>\n",
       "      <td>unkn</td>\n",
       "    </tr>\n",
       "    <tr>\n",
       "      <th>5</th>\n",
       "      <td>v3</td>\n",
       "      <td>p1</td>\n",
       "      <td>6164.0</td>\n",
       "      <td>20260.0</td>\n",
       "      <td>unkn</td>\n",
       "    </tr>\n",
       "    <tr>\n",
       "      <th>...</th>\n",
       "      <td>...</td>\n",
       "      <td>...</td>\n",
       "      <td>...</td>\n",
       "      <td>...</td>\n",
       "      <td>...</td>\n",
       "    </tr>\n",
       "    <tr>\n",
       "      <th>411814</th>\n",
       "      <td>v5918</td>\n",
       "      <td>p4126</td>\n",
       "      <td>113.0</td>\n",
       "      <td>9330.0</td>\n",
       "      <td>unkn</td>\n",
       "    </tr>\n",
       "    <tr>\n",
       "      <th>411815</th>\n",
       "      <td>v2540</td>\n",
       "      <td>p4126</td>\n",
       "      <td>118.0</td>\n",
       "      <td>3355.0</td>\n",
       "      <td>unkn</td>\n",
       "    </tr>\n",
       "    <tr>\n",
       "      <th>411816</th>\n",
       "      <td>v5896</td>\n",
       "      <td>p4127</td>\n",
       "      <td>143.0</td>\n",
       "      <td>1835.0</td>\n",
       "      <td>unkn</td>\n",
       "    </tr>\n",
       "    <tr>\n",
       "      <th>411817</th>\n",
       "      <td>v1796</td>\n",
       "      <td>p4127</td>\n",
       "      <td>102.0</td>\n",
       "      <td>1445.0</td>\n",
       "      <td>unkn</td>\n",
       "    </tr>\n",
       "    <tr>\n",
       "      <th>411818</th>\n",
       "      <td>v2540</td>\n",
       "      <td>p4127</td>\n",
       "      <td>106.0</td>\n",
       "      <td>1275.0</td>\n",
       "      <td>unkn</td>\n",
       "    </tr>\n",
       "  </tbody>\n",
       "</table>\n",
       "<p>401146 rows × 5 columns</p>\n",
       "</div>"
      ],
      "text/plain": [
       "           ID   Prod    Quant      Val  Insp\n",
       "1          v1     p1    182.0   1665.0  unkn\n",
       "2          v2     p1   3072.0   8780.0  unkn\n",
       "3          v3     p1  20393.0  76990.0  unkn\n",
       "4          v4     p1    112.0   1100.0  unkn\n",
       "5          v3     p1   6164.0  20260.0  unkn\n",
       "...       ...    ...      ...      ...   ...\n",
       "411814  v5918  p4126    113.0   9330.0  unkn\n",
       "411815  v2540  p4126    118.0   3355.0  unkn\n",
       "411816  v5896  p4127    143.0   1835.0  unkn\n",
       "411817  v1796  p4127    102.0   1445.0  unkn\n",
       "411818  v2540  p4127    106.0   1275.0  unkn\n",
       "\n",
       "[401146 rows x 5 columns]"
      ]
     },
     "execution_count": 111,
     "metadata": {},
     "output_type": "execute_result"
    }
   ],
   "source": [
    "# Load data\n",
    "df = pd.read_csv(\"data/sales.csv\")\n",
    "df = df.set_index('Unnamed: 0') # set index\n",
    "df.index.name = None\n",
    "df"
   ]
  },
  {
   "cell_type": "code",
   "execution_count": 6,
   "id": "b776fa63",
   "metadata": {},
   "outputs": [],
   "source": [
    "# # Seperate labeled and unlabeled data\n",
    "# labeled_df = df[df[\"Insp\"].isin([\"ok\", \"fraud\"])].copy()\n",
    "# unlabeled_df = df[df[\"Insp\"] == \"unkn\"].copy()\n",
    "\n",
    "# labeled_df\n",
    "\n",
    "# # Split into X and y\n",
    "# X = labeled_df.drop(columns=\"Insp\")\n",
    "# y = labeled_df[\"Insp\"].map({\"ok\": 0, \"fraud\": 1})  # convert to binary\n",
    "\n",
    "# # Split into train/test\n",
    "# X_train_labeled, X_test_labeled, y_train_labeled, y_test_labeled = train_test_split(\n",
    "#     X,\n",
    "#     y,\n",
    "#     test_size=0.25,\n",
    "#     random_state=123,\n",
    "#     stratify=y\n",
    "# )\n",
    "\n",
    "# use later during self supervised training"
   ]
  },
  {
   "cell_type": "markdown",
   "id": "950fa9ec",
   "metadata": {},
   "source": [
    "Before doing anything with the data, we split them into train and test set to prevent bias:"
   ]
  },
  {
   "cell_type": "code",
   "execution_count": 112,
   "id": "a5b8c57e",
   "metadata": {},
   "outputs": [],
   "source": [
    "y = df[\"Insp\"]\n",
    "X = df.drop(labels=[\"Insp\"], axis=1)\n",
    "\n",
    "X_train, X_test, y_train, y_test = train_test_split(\n",
    "    X,\n",
    "    y,\n",
    "    test_size=0.25,\n",
    "    random_state=123,\n",
    "    stratify=y\n",
    ")"
   ]
  },
  {
   "cell_type": "code",
   "execution_count": 8,
   "id": "10169033",
   "metadata": {},
   "outputs": [
    {
     "data": {
      "text/plain": [
       "array(['unkn', 'ok', 'fraud'], dtype=object)"
      ]
     },
     "execution_count": 8,
     "metadata": {},
     "output_type": "execute_result"
    }
   ],
   "source": [
    "y_train.unique()"
   ]
  },
  {
   "cell_type": "code",
   "execution_count": 9,
   "id": "c7361130",
   "metadata": {},
   "outputs": [
    {
     "name": "stdout",
     "output_type": "stream",
     "text": [
      "Amount of unique vendors:  5955\n",
      "Amount of unique products:  4548\n"
     ]
    }
   ],
   "source": [
    "print(\"Amount of unique vendors: \", len(X_train[\"ID\"].unique()))\n",
    "print(\"Amount of unique products: \", len(X_train[\"Prod\"].unique()))"
   ]
  },
  {
   "cell_type": "markdown",
   "id": "bb273930",
   "metadata": {},
   "source": [
    "The data shows around 6000 unique vendors and around 4500 unique products. This makes it harder to encode the values for the model training phase."
   ]
  },
  {
   "cell_type": "code",
   "execution_count": 10,
   "id": "604c7a02",
   "metadata": {},
   "outputs": [
    {
     "data": {
      "image/png": "[encoded data removed]",
      "text/plain": [
       "<Figure size 640x480 with 1 Axes>"
      ]
     },
     "metadata": {},
     "output_type": "display_data"
    }
   ],
   "source": [
    "counts = y_train.value_counts() # get value counts for each unique \"Insp\" value\n",
    "\n",
    "ax = counts.plot(kind=\"bar\") # create plot\n",
    "\n",
    "plt.xlabel(\"Inspection Status\")\n",
    "plt.ylabel(\"Count\")\n",
    "plt.title(\"Frequency of Inspection Status\")\n",
    "plt.xticks(rotation=0)\n",
    "\n",
    "# plot actual values\n",
    "for i, count in enumerate(counts):\n",
    "    plt.text(i, count + 0.5, str(count), ha='center', va='bottom', fontsize=10)\n",
    "\n",
    "plt.tight_layout()\n",
    "plt.show()\n"
   ]
  },
  {
   "cell_type": "markdown",
   "id": "e2509c87",
   "metadata": {},
   "source": [
    "The data is consists of a transaction Id(\"ID\"), the products(\"Prod\") bought with a quantity(\"Quant\") and a the corresponding value(\"Val\") spent during the transaction. For training, the id will not be necessary, but the rest can be used for preictions. A inspected value(\"Insp\") flags the transaction as 'ok', 'fraud', or as 'unknown'. When looking at the value distribution, it can be seen that there is a significant amount of unknown data, and a small amount of data that is actually flagged as okay or fraudulent. This data imbalance needs to be addressed later.\n"
   ]
  },
  {
   "cell_type": "code",
   "execution_count": 11,
   "id": "4beacb27",
   "metadata": {},
   "outputs": [
    {
     "data": {
      "image/png": "[encoded data removed]",
      "text/plain": [
       "<Figure size 640x480 with 1 Axes>"
      ]
     },
     "metadata": {},
     "output_type": "display_data"
    }
   ],
   "source": [
    "# val distribution\n",
    "sns.histplot(X_train[\"Val\"] / X_train[\"Quant\"], bins=range(100, 2000, 10))\n",
    "plt.title(\"Histogram of 'Val'\")\n",
    "plt.xlabel(\"Val\")\n",
    "plt.ylabel(\"Frequency\")\n",
    "plt.show()"
   ]
  },
  {
   "cell_type": "markdown",
   "id": "fe29b9bb",
   "metadata": {},
   "source": [
    "The value distribution exposes strong tailed skewness to the left, which makes it harder to read this plot. This is to be expected, as in a real life scenario, smaller transactions are more common than larger ones. Apart from the value distribution, the quantity distribution looks like this:"
   ]
  },
  {
   "cell_type": "code",
   "execution_count": 12,
   "id": "72deb8e5",
   "metadata": {},
   "outputs": [
    {
     "data": {
      "image/png": "[encoded data removed]",
      "text/plain": [
       "<Figure size 640x480 with 1 Axes>"
      ]
     },
     "metadata": {},
     "output_type": "display_data"
    }
   ],
   "source": [
    "# quant distribution\n",
    "sns.histplot(X_train[\"Quant\"], bins=range(100, 2000, 10))\n",
    "plt.title(\"Histogram of 'Quant'\")\n",
    "plt.xlabel(\"Quant\")\n",
    "plt.ylabel(\"Frequency\")\n",
    "plt.show()"
   ]
  },
  {
   "cell_type": "markdown",
   "id": "0cd3b5d7",
   "metadata": {},
   "source": [
    "The quantity distribution shows similar results to the value distribution, it is highly skewed to the left side. Overall, the skewness is not necessarily bad, as it represents real life circumstances. Despite that, removing the skewness could still be considered in case of bad prediction performance later.\n",
    "\n",
    "Now let's look at the number of transactions per vendor as well as per product:"
   ]
  },
  {
   "cell_type": "code",
   "execution_count": 13,
   "id": "7ecbf230",
   "metadata": {},
   "outputs": [
    {
     "data": {
      "image/png": "[encoded data removed]",
      "text/plain": [
       "<Figure size 640x480 with 1 Axes>"
      ]
     },
     "metadata": {},
     "output_type": "display_data"
    }
   ],
   "source": [
    "# transactions per vendor\n",
    "vendor_counts = X_train.groupby(\"ID\").size().sort_values(ascending=False)\n",
    "\n",
    "# plot\n",
    "vendor_counts.head(100).plot(kind=\"bar\")\n",
    "plt.title(\"Top 100 Vendors by Number of Transactions\")\n",
    "plt.ylabel(\"Number of Transactions\")\n",
    "plt.xlabel(\"Vendor\")\n",
    "plt.xticks([], [])  # remove massive amount of ticks\n",
    "plt.xticks(rotation=45)\n",
    "plt.show()"
   ]
  },
  {
   "cell_type": "code",
   "execution_count": 14,
   "id": "dfce448c",
   "metadata": {},
   "outputs": [
    {
     "data": {
      "image/png": "[encoded data removed]",
      "text/plain": [
       "<Figure size 640x480 with 1 Axes>"
      ]
     },
     "metadata": {},
     "output_type": "display_data"
    }
   ],
   "source": [
    "# transactions per product\n",
    "prod_counts = X_train.groupby(\"Prod\").size().sort_values(ascending=False)\n",
    "\n",
    "# plot\n",
    "vendor_counts.head(100).plot(kind=\"bar\")\n",
    "plt.title(\"Top 100 Products by Number of Transactions\")\n",
    "plt.ylabel(\"Number of Transactions\")\n",
    "plt.xlabel(\"Product\")\n",
    "plt.xticks([], [])  # remove massive amount of ticks\n",
    "plt.xticks(rotation=45)\n",
    "plt.show()"
   ]
  },
  {
   "cell_type": "markdown",
   "id": "8c3a9c4c",
   "metadata": {},
   "source": [
    "Plotting the top 100 vendors/products by number of transactions reveals long tailed skewness again, just like before during the value and quantity distribution. This is again applicable for real life scenario, where a small percentage of customers make far more transactions than the rest. Although this data represents a real life scenario, it could lead to some problems later, during the semi-supervised learning approaches. Training the model on data that is heavily skewed towards a small amount of costumers may have a strong bias towards them. Therefore, some pre-processing will be necessary in order to prevent this from happening."
   ]
  },
  {
   "cell_type": "markdown",
   "id": "146623b6",
   "metadata": {},
   "source": [
    "## Data Grouping and Feature Engineering"
   ]
  },
  {
   "cell_type": "markdown",
   "id": "01c93f3e",
   "metadata": {},
   "source": [
    "In this section, some data grouping and feature engineering is performed before training a model. Due to the fact that there are so many differnet products present in the data, grouping transactions per product might improve prediction quality."
   ]
  },
  {
   "cell_type": "code",
   "execution_count": 113,
   "id": "64bfb7c8",
   "metadata": {},
   "outputs": [],
   "source": [
    "X_train['Uprice'] = X_train['Val'] / X_train['Quant']"
   ]
  },
  {
   "cell_type": "code",
   "execution_count": 16,
   "id": "752145d1",
   "metadata": {},
   "outputs": [
    {
     "data": {
      "image/png": "[encoded data removed]",
      "text/plain": [
       "<Figure size 640x480 with 1 Axes>"
      ]
     },
     "metadata": {},
     "output_type": "display_data"
    }
   ],
   "source": [
    "# plot unit price histogram\n",
    "sns.set_style(\"darkgrid\")\n",
    "\n",
    "ax = sns.histplot(X_train[\"Uprice\"], bins=range(1,1000,10))\n",
    "plt.title(\"Histogram of Unit Price\")\n",
    "plt.xlabel(\"Unit Price\")\n",
    "plt.ylabel(\"Count\")\n",
    "plt.show()"
   ]
  },
  {
   "cell_type": "markdown",
   "id": "78cc9d7c",
   "metadata": {},
   "source": [
    "As in the previous histograms, the estimated unit price is also right-skewed. This further highlights the need to address the class imbalance later. Before that, missing values in the data are examined now."
   ]
  },
  {
   "cell_type": "code",
   "execution_count": 17,
   "id": "e6ae56b3",
   "metadata": {},
   "outputs": [
    {
     "data": {
      "text/plain": [
       "ID        False\n",
       "Prod      False\n",
       "Quant      True\n",
       "Val        True\n",
       "Uprice     True\n",
       "dtype: bool"
      ]
     },
     "execution_count": 17,
     "metadata": {},
     "output_type": "execute_result"
    }
   ],
   "source": [
    "X_train.isnull().any()"
   ]
  },
  {
   "cell_type": "code",
   "execution_count": 18,
   "id": "290114c3",
   "metadata": {},
   "outputs": [
    {
     "data": {
      "text/html": [
       "<div>\n",
       "<style scoped>\n",
       "    .dataframe tbody tr th:only-of-type {\n",
       "        vertical-align: middle;\n",
       "    }\n",
       "\n",
       "    .dataframe tbody tr th {\n",
       "        vertical-align: top;\n",
       "    }\n",
       "\n",
       "    .dataframe thead th {\n",
       "        text-align: right;\n",
       "    }\n",
       "</style>\n",
       "<table border=\"1\" class=\"dataframe\">\n",
       "  <thead>\n",
       "    <tr style=\"text-align: right;\">\n",
       "      <th></th>\n",
       "      <th>ID</th>\n",
       "      <th>Prod</th>\n",
       "      <th>Quant</th>\n",
       "      <th>Val</th>\n",
       "      <th>Uprice</th>\n",
       "    </tr>\n",
       "  </thead>\n",
       "  <tbody>\n",
       "    <tr>\n",
       "      <th>342516</th>\n",
       "      <td>v614</td>\n",
       "      <td>p3478</td>\n",
       "      <td>NaN</td>\n",
       "      <td>1015.0</td>\n",
       "      <td>NaN</td>\n",
       "    </tr>\n",
       "    <tr>\n",
       "      <th>386456</th>\n",
       "      <td>v2694</td>\n",
       "      <td>p2126</td>\n",
       "      <td>NaN</td>\n",
       "      <td>1285.0</td>\n",
       "      <td>NaN</td>\n",
       "    </tr>\n",
       "    <tr>\n",
       "      <th>202471</th>\n",
       "      <td>v1981</td>\n",
       "      <td>p3164</td>\n",
       "      <td>NaN</td>\n",
       "      <td>1240.0</td>\n",
       "      <td>NaN</td>\n",
       "    </tr>\n",
       "    <tr>\n",
       "      <th>169552</th>\n",
       "      <td>v891</td>\n",
       "      <td>p3871</td>\n",
       "      <td>NaN</td>\n",
       "      <td>1035.0</td>\n",
       "      <td>NaN</td>\n",
       "    </tr>\n",
       "    <tr>\n",
       "      <th>302068</th>\n",
       "      <td>v1141</td>\n",
       "      <td>p1471</td>\n",
       "      <td>NaN</td>\n",
       "      <td>NaN</td>\n",
       "      <td>NaN</td>\n",
       "    </tr>\n",
       "    <tr>\n",
       "      <th>...</th>\n",
       "      <td>...</td>\n",
       "      <td>...</td>\n",
       "      <td>...</td>\n",
       "      <td>...</td>\n",
       "      <td>...</td>\n",
       "    </tr>\n",
       "    <tr>\n",
       "      <th>106715</th>\n",
       "      <td>v426</td>\n",
       "      <td>p2909</td>\n",
       "      <td>NaN</td>\n",
       "      <td>1015.0</td>\n",
       "      <td>NaN</td>\n",
       "    </tr>\n",
       "    <tr>\n",
       "      <th>93131</th>\n",
       "      <td>v1136</td>\n",
       "      <td>p1915</td>\n",
       "      <td>NaN</td>\n",
       "      <td>1020.0</td>\n",
       "      <td>NaN</td>\n",
       "    </tr>\n",
       "    <tr>\n",
       "      <th>197437</th>\n",
       "      <td>v819</td>\n",
       "      <td>p2693</td>\n",
       "      <td>NaN</td>\n",
       "      <td>1040.0</td>\n",
       "      <td>NaN</td>\n",
       "    </tr>\n",
       "    <tr>\n",
       "      <th>273015</th>\n",
       "      <td>v431</td>\n",
       "      <td>p3928</td>\n",
       "      <td>NaN</td>\n",
       "      <td>1065.0</td>\n",
       "      <td>NaN</td>\n",
       "    </tr>\n",
       "    <tr>\n",
       "      <th>269322</th>\n",
       "      <td>v5733</td>\n",
       "      <td>p3679</td>\n",
       "      <td>NaN</td>\n",
       "      <td>1030.0</td>\n",
       "      <td>NaN</td>\n",
       "    </tr>\n",
       "  </tbody>\n",
       "</table>\n",
       "<p>10586 rows × 5 columns</p>\n",
       "</div>"
      ],
      "text/plain": [
       "           ID   Prod  Quant     Val  Uprice\n",
       "342516   v614  p3478    NaN  1015.0     NaN\n",
       "386456  v2694  p2126    NaN  1285.0     NaN\n",
       "202471  v1981  p3164    NaN  1240.0     NaN\n",
       "169552   v891  p3871    NaN  1035.0     NaN\n",
       "302068  v1141  p1471    NaN     NaN     NaN\n",
       "...       ...    ...    ...     ...     ...\n",
       "106715   v426  p2909    NaN  1015.0     NaN\n",
       "93131   v1136  p1915    NaN  1020.0     NaN\n",
       "197437   v819  p2693    NaN  1040.0     NaN\n",
       "273015   v431  p3928    NaN  1065.0     NaN\n",
       "269322  v5733  p3679    NaN  1030.0     NaN\n",
       "\n",
       "[10586 rows x 5 columns]"
      ]
     },
     "execution_count": 18,
     "metadata": {},
     "output_type": "execute_result"
    }
   ],
   "source": [
    "null_rows = X_train[X_train.isnull().any(axis=1)]\n",
    "null_rows"
   ]
  },
  {
   "cell_type": "markdown",
   "id": "3195ed2a",
   "metadata": {},
   "source": [
    "The data contains 10586 rows with NaN in either the quantity or value column. This is only a small portion of the data, therefore they could safely be removed. Despite that, the values could be estimated instead. For now, let's create a copy of the data with removed values and keep the dataframe including the NaN values too."
   ]
  },
  {
   "cell_type": "code",
   "execution_count": 19,
   "id": "f576ba2c",
   "metadata": {},
   "outputs": [
    {
     "data": {
      "text/plain": [
       "Quant     10368\n",
       "Val         881\n",
       "Uprice    10586\n",
       "dtype: int64"
      ]
     },
     "execution_count": 19,
     "metadata": {},
     "output_type": "execute_result"
    }
   ],
   "source": [
    "X_train.isnull().sum()[X_train.isnull().sum() > 0]"
   ]
  },
  {
   "cell_type": "code",
   "execution_count": 20,
   "id": "795634cb",
   "metadata": {},
   "outputs": [
    {
     "name": "stdout",
     "output_type": "stream",
     "text": [
      "663 rows have missing values for Quant and Val\n"
     ]
    }
   ],
   "source": [
    "rows_with_multiple_nulls = X_train.isnull().sum(axis=1)\n",
    "num_rows = (rows_with_multiple_nulls == 3).sum() # 3 because \"Quant\", \"Val\", \"UPrice\" need to be NaN to count \n",
    "print(f\"{num_rows} rows have missing values for Quant and Val\")"
   ]
  },
  {
   "cell_type": "markdown",
   "id": "2664816c",
   "metadata": {},
   "source": [
    "NaN values seem to be more prevelant in the quantity column than in the value column, and with 663 rows with missing values in both column, most missing Val columns are also missing the quantity value. In sum, only a small percentage of the training data has null values, therefore this opens up the opportunity to delete the data. But before that, a look at the distribution of products with missing quantity is done."
   ]
  },
  {
   "cell_type": "code",
   "execution_count": 21,
   "id": "f9c7d765",
   "metadata": {},
   "outputs": [
    {
     "data": {
      "image/png": "[encoded data removed]",
      "text/plain": [
       "<Figure size 1000x600 with 1 Axes>"
      ]
     },
     "metadata": {},
     "output_type": "display_data"
    }
   ],
   "source": [
    "prod_nulls = X_train[X_train.isnull().any(axis=1)][\"Prod\"].value_counts() # value counts for null\n",
    "prod_not_nulls = X_train[~X_train.isnull().any(axis=1)][\"Prod\"].value_counts() # value counts for not null\n",
    "\n",
    "comparison = pd.DataFrame({\n",
    "    \"Prod_NotNull\": prod_not_nulls,\n",
    "    \"Prod_Null\": prod_nulls\n",
    "}).fillna(0)\n",
    "comparison = comparison[comparison[\"Prod_Null\"] > 0] # remove products with zero null values\n",
    "\n",
    "comparison_pct = comparison.div(comparison.sum(axis=1), axis=0) * 100\n",
    "comparison_pct = comparison_pct.sort_values(\"Prod_Null\", ascending=False).head(100)\n",
    "\n",
    "comparison_pct.plot(kind=\"bar\", stacked=True, figsize=(10, 6))\n",
    "plt.title(\"Comparison of Null vs Non-Null Rows per Product (%)\")\n",
    "plt.ylabel(\"Percentage\")\n",
    "plt.xlabel(\"Prod\")\n",
    "plt.xticks([], [])\n",
    "plt.xticks(rotation=45)\n",
    "plt.tight_layout()\n",
    "plt.show()"
   ]
  },
  {
   "cell_type": "markdown",
   "id": "4a389f38",
   "metadata": {},
   "source": [
    "When looking at the percentage of null values per product, we can see that quite a few products have null for around half the available data, and some even have only NaN values. Just deleting the NaN rows will decrease the availability of data for specific products, thus limiting prediction quality. Keep in mind that this plot only shows rows where at least one column is missing, therefore a look at the percentag of columns, where both values are missing could help to decide if all NaN rows should be removed:"
   ]
  },
  {
   "cell_type": "code",
   "execution_count": 22,
   "id": "2b29df22",
   "metadata": {},
   "outputs": [
    {
     "data": {
      "image/png": "[encoded data removed]",
      "text/plain": [
       "<Figure size 1000x600 with 1 Axes>"
      ]
     },
     "metadata": {},
     "output_type": "display_data"
    },
    {
     "name": "stdout",
     "output_type": "stream",
     "text": [
      "       Prod_NotNull  Prod_AllNull\n",
      "Prod                             \n",
      "p2689     52.173913     47.826087\n",
      "p2675     59.459459     40.540541\n"
     ]
    }
   ],
   "source": [
    "\n",
    "mask_two_nulls = X_train.isnull().sum(axis=1) == 3 # mask for rows where two columns are missing values\n",
    "\n",
    "prod_two_nulls = X_train[mask_two_nulls][\"Prod\"].value_counts() # value counts for null\n",
    "prod_not_nulls = X_train[~mask_two_nulls][\"Prod\"].value_counts() # value counts for not null\n",
    "\n",
    "comparison = pd.DataFrame({\n",
    "    \"Prod_NotNull\": prod_not_nulls,\n",
    "    \"Prod_AllNull\": prod_two_nulls\n",
    "}).fillna(0)\n",
    "comparison = comparison[comparison[\"Prod_AllNull\"] > 0] # remove products with zero null values\n",
    "\n",
    "comparison_pct = comparison.div(comparison.sum(axis=1), axis=0) * 100\n",
    "comparison_pct = comparison_pct.sort_values(\"Prod_AllNull\", ascending=False).head(100)\n",
    "\n",
    "comparison_pct.plot(kind=\"bar\", stacked=True, figsize=(10, 6))\n",
    "plt.title(\"Comparison of All-Null vs Other Rows per Product (%)\")\n",
    "plt.ylabel(\"Percentage\")\n",
    "plt.xlabel(\"Prod\")\n",
    "plt.xticks([], [])\n",
    "plt.xticks(rotation=45)\n",
    "plt.tight_layout()\n",
    "plt.show()\n",
    "\n",
    "print(comparison_pct.head(2))"
   ]
  },
  {
   "cell_type": "markdown",
   "id": "0c2b483f",
   "metadata": {},
   "source": [
    "The plot shows that the ratio is far better now for the rows where both Quant and Val are missing. Although for the product with the id p2689 and p2675, around 40-50 percent of the available transactions do not contain any value. This will heavily decrease their impact in the training data. Despite that, this indicates the possibility of removing all rows where both columns are missing. Columns with missing Val will be kept though, as they can be estimated later.\n",
    "\n",
    "Finally, there is a case where a products quantity is not present in any row. Those rows need to be deleted too."
   ]
  },
  {
   "cell_type": "code",
   "execution_count": 23,
   "id": "b487b36e",
   "metadata": {},
   "outputs": [
    {
     "name": "stdout",
     "output_type": "stream",
     "text": [
      "Number of rows with no quant: 41\n"
     ]
    }
   ],
   "source": [
    "prods_all_quant_null = X_train.groupby(\"Prod\")[\"Quant\"].apply(lambda x: x.isnull().all()) # group by products with no valid quant\n",
    "prods_to_remove = prods_all_quant_null[prods_all_quant_null].index\n",
    "\n",
    "mask_no_quant = X_train[\"Prod\"].isin(prods_to_remove) # mask all products where no valid quant\n",
    "print(f\"Number of rows with no quant: {(mask_no_quant).sum()}\")"
   ]
  },
  {
   "cell_type": "markdown",
   "id": "d6efe7a1",
   "metadata": {},
   "source": [
    "Now to make this step reproducable, a function is implemented to filter out unwanted NaN rows."
   ]
  },
  {
   "cell_type": "code",
   "execution_count": 103,
   "id": "8f9051cc",
   "metadata": {},
   "outputs": [],
   "source": [
    "def remove_NaN(X, y):\n",
    "    \"\"\"\n",
    "    Removes rows with NaN when one of the following conditions is met:\n",
    "    * Row contains NaN for both \"Quant\" and \"Val\"\n",
    "    * Product contains only rows where \"Quant\" is NaN\n",
    "\n",
    "    Parameters:\n",
    "    X: Data representing input features\n",
    "    y: Data representing output feature\n",
    "\n",
    "    Returns:\n",
    "    X: filtered\n",
    "    Y: filtered\n",
    "    \"\"\"\n",
    "    # remove rows where quant and val are null\n",
    "    mask_nulls = X[\"Quant\"].isnull() & X[\"Val\"].isnull() # filter out rows with both quant and val missing.\n",
    "\n",
    "    X = X[~mask_nulls]\n",
    "    y = y[~mask_nulls]\n",
    "\n",
    "    # remove rows where product with no valid quant values exists.\n",
    "    prods_all_quant_null = X.groupby(\"Prod\")[\"Quant\"].apply(lambda x: x.isnull().all())\n",
    "    prods_to_remove = prods_all_quant_null[prods_all_quant_null].index\n",
    "\n",
    "    # Get all rows from X_train for those products\n",
    "    mask_keep = ~X[\"Prod\"].isin(prods_to_remove)\n",
    "\n",
    "    X = X[mask_keep]\n",
    "    y = y[mask_keep]\n",
    "\n",
    "    return X, y"
   ]
  },
  {
   "cell_type": "code",
   "execution_count": 114,
   "id": "e525f81a",
   "metadata": {},
   "outputs": [],
   "source": [
    "X_train, y_train = remove_NaN(X_train, y_train)\n",
    "X_test, y_test = remove_NaN(X_test, y_test) # dont use yet, just remove NaN for later"
   ]
  },
  {
   "cell_type": "markdown",
   "id": "0b007173",
   "metadata": {},
   "source": [
    "In summary, the following rows with null values were removed or kept:\n",
    "- Removed rows were both quantity and value are missing\n",
    "- removed rows were a product has not a single valid quantity value\n",
    "- Kept rows were only the quantity value (and therefore unit price) is NaN"
   ]
  },
  {
   "cell_type": "markdown",
   "id": "47041520",
   "metadata": {},
   "source": [
    "## Outlier detection using boxplot"
   ]
  },
  {
   "cell_type": "markdown",
   "id": "d7a5940f",
   "metadata": {},
   "source": [
    "In this section, the goal is to identify outliers in the unit prices. For this, it is assumed that unit prices are following a near-normal distribution, where outliers would not match this pattern, which indicates fraud. This can easily be done by plotting a boxplot, as it makes it easy to detect outliers through median, interquartile range and the outliers.\n",
    "\n",
    "Before any further steps are performed, the values already marked as fraudulent are removed, as they are not be representative. Additionally, products with too few transactions are also removed, as they skew the results."
   ]
  },
  {
   "cell_type": "code",
   "execution_count": 65,
   "id": "9fdf2936",
   "metadata": {},
   "outputs": [],
   "source": [
    "_RARE_THRESHOLD = 15"
   ]
  },
  {
   "cell_type": "code",
   "execution_count": 115,
   "id": "2f9a0336",
   "metadata": {},
   "outputs": [],
   "source": [
    "def prepare_outlier_analysis(X, y):\n",
    "    \"\"\"\n",
    "    Removes rows flagged as fraud and removed rows for products will few transaction (n <= 15)\n",
    "\n",
    "    Parameters:\n",
    "    X: Data representing input features\n",
    "    y: Data representing output feature\n",
    "\n",
    "    Returns:\n",
    "    X: filtered input data\n",
    "    Y: filtered output data\n",
    "    X_removed: removed input rows\n",
    "    y_removed: removed output rows\n",
    "    \"\"\"\n",
    "    # mask rows flagged as fraud\n",
    "    mask_fraud = y == \"fraud\" \n",
    "    \n",
    "    # mask rare products\n",
    "    product_counts = X['Prod'].value_counts()\n",
    "    rare_products = product_counts[product_counts <= _RARE_THRESHOLD].index # removing rows n <= 5\n",
    "    mask_rare_prod = X['Prod'].isin(rare_products)\n",
    "\n",
    "    # combine masks\n",
    "    mask_remove = mask_fraud | mask_rare_prod\n",
    "\n",
    "    \n",
    "    # apply combined mask\n",
    "    X_filtered = X[~mask_remove]\n",
    "    y_filtered = y[~mask_remove]\n",
    "\n",
    "    X_removed = X[mask_remove]\n",
    "    y_removed = y[mask_remove]\n",
    "    \n",
    "    return X_filtered, y_filtered, X_removed, y_removed"
   ]
  },
  {
   "cell_type": "code",
   "execution_count": 116,
   "id": "895d5937",
   "metadata": {},
   "outputs": [],
   "source": [
    "# remove specified rows from training data before outlier detection.\n",
    "X_train, y_train, X_removed, y_removed = prepare_outlier_analysis(X_train, y_train)"
   ]
  },
  {
   "cell_type": "markdown",
   "id": "8f57193e",
   "metadata": {},
   "source": [
    "After cleaning the data, it is time to determine the outliers. Using the properties of a boxplot, an outlier can be defined as the area above or below the whiskers. This is defined as lower = Q1 + 1.5 * IQR and upper = Q3 + 1.5 * IQR. Therefore, values in that range are outliers and can be flagged as outliers. This is done by implementing a function for calculatign the measures of central tendency and spread."
   ]
  },
  {
   "cell_type": "code",
   "execution_count": 109,
   "id": "07a5fb41",
   "metadata": {},
   "outputs": [],
   "source": [
    "def add_boxplot_stats(X):\n",
    "    \"\"\"\n",
    "    Computes boxplot features and addsthem to the fraud detection data\n",
    "\n",
    "    Parameters:\n",
    "    X: Data representing input features\n",
    "\n",
    "    Returns:\n",
    "    X: X with added boxplot features\n",
    "    \"\"\"\n",
    "    # calculate quartiles\n",
    "    q1 = X['Uprice'].quantile(0.25)\n",
    "    q3 = X['Uprice'].quantile(0.75)\n",
    "\n",
    "    iqr = q3 - q1     # calculate interquartiel range\n",
    "    lower = q1 - 1.5 * iqr # lower whisker\n",
    "    upper = q3 + 1.5 * iqr # upper whisker\n",
    "\n",
    "    median = X['Uprice'].median() #calcualte median\n",
    "\n",
    "    return pd.Series({'q1': q1, 'q3': q3, 'iqr': iqr, 'lower': lower, 'upper': upper, 'medP': median})"
   ]
  },
  {
   "cell_type": "code",
   "execution_count": null,
   "id": "37962c20",
   "metadata": {},
   "outputs": [],
   "source": [
    "# First, a function is implemented to calculate the boxplot values for each product\n",
    "# Then, the boxplot stats are applied to each row given the product id.\n",
    "def add_boxplot_stats(X):\n",
    "    \"\"\"\n",
    "    Computes boxplot features and addsthem to the fraud detection data\n",
    "\n",
    "    Parameters:\n",
    "    X: Data representing input features\n",
    "\n",
    "    Returns:\n",
    "    X: X with added boxplot features\n",
    "    \"\"\"\n",
    "    # calculate quartiles\n",
    "    q1 = X['Uprice'].quantile(0.25)\n",
    "    q3 = X['Uprice'].quantile(0.75)\n",
    "\n",
    "    iqr = q3 - q1     # calculate interquartiel range\n",
    "    lower = q1 - 1.5 * iqr # lower whisker\n",
    "    upper = q3 + 1.5 * iqr # upper whisker\n",
    "\n",
    "    median = X['Uprice'].median() # get median\n",
    "\n",
    "    return pd.Series({'q1': q1, 'q3': q3, 'iqr': iqr, 'lower': lower, 'upper': upper, 'medP': median})\n",
    "\n",
    "# This function takes X and y as inputs, and marks outliers as fraud.\n",
    "def flag_outliers(X, y):\n",
    "    \"\"\"\n",
    "    Flags outliers as fraud using boxplot measurements \n",
    "\n",
    "    Parameters:\n",
    "    X: Data representing input features\n",
    "    y: Data representing output features\n",
    "\n",
    "    Returns:\n",
    "    y: y with \"fraud\" values for outliers\n",
    "    \"\"\"\n",
    "    # apply boxplot stats\n",
    "    X_boxplot = X.groupby('Prod').apply(add_boxplot_stats).reset_index()\n",
    "    print(X_boxplot.columns.tolist())\n",
    "    X = X.merge(X_boxplot, on='Prod', how='left') # add outliers to dataframe\n",
    "\n",
    "    # mask outliers above or below whiskers of the current product\n",
    "    outlier_mask = (X['Uprice'] < X['lower']) | (X['Uprice'] > X['upper'])\n",
    "\n",
    "    # reset index after merge due to error\n",
    "    X = X.reset_index(drop=True)\n",
    "    y = y.reset_index(drop=True)\n",
    "\n",
    "    # Apply it to y_train_bp safely\n",
    "    y.loc[outlier_mask] = \"fraud\"\n",
    "    return X, y\n"
   ]
  },
  {
   "cell_type": "code",
   "execution_count": 117,
   "id": "8cd0410e",
   "metadata": {},
   "outputs": [
    {
     "name": "stdout",
     "output_type": "stream",
     "text": [
      "['Prod', 'q1', 'q3', 'iqr', 'lower', 'upper', 'medP']\n"
     ]
    },
    {
     "name": "stderr",
     "output_type": "stream",
     "text": [
      "C:\\Users\\nikla\\AppData\\Local\\Temp\\ipykernel_21856\\4253948184.py:38: DeprecationWarning: DataFrameGroupBy.apply operated on the grouping columns. This behavior is deprecated, and in a future version of pandas the grouping columns will be excluded from the operation. Either pass `include_groups=False` to exclude the groupings or explicitly select the grouping columns after groupby to silence this warning.\n",
      "  X_boxplot = X.groupby('Prod', group_keys=False).apply(add_boxplot_stats).reset_index()\n"
     ]
    }
   ],
   "source": [
    "# flag outliers as fraud\n",
    "X_train, y_train = flag_outliers(X_train, y_train)"
   ]
  },
  {
   "cell_type": "markdown",
   "id": "edd5c9b4",
   "metadata": {},
   "source": [
    "Finally, the previously removed rows that were marked as fraud already or were removed due to a low amount of transactions per product are readded."
   ]
  },
  {
   "cell_type": "code",
   "execution_count": 120,
   "id": "08640f22",
   "metadata": {},
   "outputs": [],
   "source": [
    "X_train = pd.concat([X_train, X_removed]).reset_index(drop=True)\n",
    "y_train = pd.concat([y_train, y_removed]).reset_index(drop=True)"
   ]
  },
  {
   "cell_type": "markdown",
   "id": "d0c84252",
   "metadata": {},
   "source": [
    "## Rare Products Through Product Similarity"
   ]
  },
  {
   "cell_type": "markdown",
   "id": "b7478a2c",
   "metadata": {},
   "source": [
    "In this chapter, the problem of rare product data by grouping them with similar products. The goal of this is to boost the reliability of the model in the case of predictions when rare products are involved. The idea here is to group the data based on the distribution of of unit prices across the products. Here, the measurements of central tendencies and spread can be used, just like for the boxplot analysis. Finally, a Kolmogorov-Smirnov-Test is used to determine similarity across two distributions in order to determine the most similar product. "
   ]
  },
  {
   "cell_type": "code",
   "execution_count": 121,
   "id": "2f2ef699",
   "metadata": {},
   "outputs": [],
   "source": [
    "def rare_product_similarity_grouping(X):\n",
    "    \"\"\"\n",
    "    Groups rare products by similarity\n",
    "\n",
    "    Parameters:\n",
    "    X: Data representing input features\n",
    "\n",
    "    Returns:\n",
    "    similarity: similarity list for rare products\n",
    "    \"\"\"\n",
    "    # mask rare products\n",
    "    product_counts = X['Prod'].value_counts()\n",
    "    rare_products = product_counts[product_counts <= _RARE_THRESHOLD].index\n",
    "    all_products = product_counts.index\n",
    "    \n",
    "    # compute median and IQR\n",
    "    stats = (\n",
    "        X.groupby('Prod')['Uprice'].agg(median='median', q1=lambda x: x.quantile(0.25), q3=lambda x: x.quantile(0.75)) # calculate metrics per product using lambda function\n",
    "    )\n",
    "    stats['iqr'] = stats['q3'] - stats['q1']\n",
    "    stats = stats[['median', 'iqr']]\n",
    "\n",
    "    # loop through rare products\n",
    "    results = []\n",
    "    for prod in rare_products:\n",
    "        if prod not in stats.index: # if stats can't be computed\n",
    "            continue # skip\n",
    "\n",
    "        # get median and iqr for current product\n",
    "        med_p = stats.loc[prod, 'median']\n",
    "        iqr_p = stats.loc[prod, 'iqr']\n",
    "\n",
    "        # calculate distance to other products\n",
    "        stats['distance'] = np.sqrt((stats['median'] - med_p)**2 + (stats['iqr'] - iqr_p)**2)\n",
    "\n",
    "        # calculate most similar product\n",
    "        stats_sorted = stats.sort_values('distance')\n",
    "        sim_prod = stats_sorted.index[1]  # second closest is most similar, exclude product itself\n",
    "\n",
    "        med_s = stats.loc[sim_prod, 'median']\n",
    "        iqr_s = stats.loc[sim_prod, 'iqr']\n",
    "\n",
    "        # get product price and most similar product price\n",
    "        prices_p = X[X['Prod'] == prod]['Uprice']\n",
    "        prices_s = X[X['Prod'] == sim_prod]['Uprice']\n",
    "\n",
    "        # carry out Kolmogorov-Smirnov-Test\n",
    "        ks_stat, ks_pval = ks_2samp(prices_p, prices_s)\n",
    "\n",
    "        # add to results\n",
    "        results.append({\n",
    "            'RowSimProd': stats_sorted.iloc[1]['distance'],\n",
    "            'SimProd': sim_prod,\n",
    "            'ks.stat': ks_stat,\n",
    "            'ks.pval': ks_pval,\n",
    "            'medP': med_p,\n",
    "            'iqrP': iqr_p,\n",
    "            'medS': med_s,\n",
    "            'iqrS': iqr_s,\n",
    "        })\n",
    "\n",
    "    # return list of similarity\n",
    "    similar = pd.DataFrame(results, index=rare_products)\n",
    "    return similar"
   ]
  },
  {
   "cell_type": "code",
   "execution_count": 122,
   "id": "2179d62e",
   "metadata": {},
   "outputs": [
    {
     "name": "stdout",
     "output_type": "stream",
     "text": [
      "<class 'pandas.core.frame.DataFrame'>\n",
      "Index: 1054 entries, p4237 to p2745\n",
      "Data columns (total 8 columns):\n",
      " #   Column      Non-Null Count  Dtype  \n",
      "---  ------      --------------  -----  \n",
      " 0   RowSimProd  1054 non-null   float64\n",
      " 1   SimProd     1054 non-null   object \n",
      " 2   ks.stat     733 non-null    float64\n",
      " 3   ks.pval     733 non-null    float64\n",
      " 4   medP        1054 non-null   float64\n",
      " 5   iqrP        1054 non-null   float64\n",
      " 6   medS        1054 non-null   float64\n",
      " 7   iqrS        1054 non-null   float64\n",
      "dtypes: float64(7), object(1)\n",
      "memory usage: 74.1+ KB\n"
     ]
    }
   ],
   "source": [
    "similar = rare_product_similarity_grouping(X_train)\n",
    "similar.info()"
   ]
  },
  {
   "cell_type": "code",
   "execution_count": 88,
   "id": "b46158de",
   "metadata": {},
   "outputs": [
    {
     "data": {
      "text/html": [
       "<div>\n",
       "<style scoped>\n",
       "    .dataframe tbody tr th:only-of-type {\n",
       "        vertical-align: middle;\n",
       "    }\n",
       "\n",
       "    .dataframe tbody tr th {\n",
       "        vertical-align: top;\n",
       "    }\n",
       "\n",
       "    .dataframe thead th {\n",
       "        text-align: right;\n",
       "    }\n",
       "</style>\n",
       "<table border=\"1\" class=\"dataframe\">\n",
       "  <thead>\n",
       "    <tr style=\"text-align: right;\">\n",
       "      <th></th>\n",
       "      <th>RowSimProd</th>\n",
       "      <th>SimProd</th>\n",
       "      <th>ks.stat</th>\n",
       "      <th>ks.pval</th>\n",
       "      <th>medP</th>\n",
       "      <th>iqrP</th>\n",
       "      <th>medS</th>\n",
       "      <th>iqrS</th>\n",
       "    </tr>\n",
       "    <tr>\n",
       "      <th>Prod</th>\n",
       "      <th></th>\n",
       "      <th></th>\n",
       "      <th></th>\n",
       "      <th></th>\n",
       "      <th></th>\n",
       "      <th></th>\n",
       "      <th></th>\n",
       "      <th></th>\n",
       "    </tr>\n",
       "  </thead>\n",
       "  <tbody>\n",
       "    <tr>\n",
       "      <th>p4254</th>\n",
       "      <td>0.278934</td>\n",
       "      <td>p876</td>\n",
       "      <td>NaN</td>\n",
       "      <td>NaN</td>\n",
       "      <td>9.740061</td>\n",
       "      <td>7.648240</td>\n",
       "      <td>9.513274</td>\n",
       "      <td>7.810635</td>\n",
       "    </tr>\n",
       "    <tr>\n",
       "      <th>p704</th>\n",
       "      <td>0.607384</td>\n",
       "      <td>p1974</td>\n",
       "      <td>0.388889</td>\n",
       "      <td>0.138869</td>\n",
       "      <td>19.512635</td>\n",
       "      <td>16.708795</td>\n",
       "      <td>19.443867</td>\n",
       "      <td>16.105316</td>\n",
       "    </tr>\n",
       "    <tr>\n",
       "      <th>p398</th>\n",
       "      <td>0.127756</td>\n",
       "      <td>p2314</td>\n",
       "      <td>NaN</td>\n",
       "      <td>NaN</td>\n",
       "      <td>9.533898</td>\n",
       "      <td>3.001996</td>\n",
       "      <td>9.619048</td>\n",
       "      <td>2.906753</td>\n",
       "    </tr>\n",
       "    <tr>\n",
       "      <th>p1570</th>\n",
       "      <td>0.172772</td>\n",
       "      <td>p3625</td>\n",
       "      <td>NaN</td>\n",
       "      <td>NaN</td>\n",
       "      <td>13.414634</td>\n",
       "      <td>4.551659</td>\n",
       "      <td>13.514851</td>\n",
       "      <td>4.410922</td>\n",
       "    </tr>\n",
       "    <tr>\n",
       "      <th>p4296</th>\n",
       "      <td>0.258865</td>\n",
       "      <td>p3097</td>\n",
       "      <td>0.400000</td>\n",
       "      <td>0.106338</td>\n",
       "      <td>15.118159</td>\n",
       "      <td>4.878196</td>\n",
       "      <td>15.233615</td>\n",
       "      <td>4.646504</td>\n",
       "    </tr>\n",
       "    <tr>\n",
       "      <th>...</th>\n",
       "      <td>...</td>\n",
       "      <td>...</td>\n",
       "      <td>...</td>\n",
       "      <td>...</td>\n",
       "      <td>...</td>\n",
       "      <td>...</td>\n",
       "      <td>...</td>\n",
       "      <td>...</td>\n",
       "    </tr>\n",
       "    <tr>\n",
       "      <th>p2538</th>\n",
       "      <td>0.087315</td>\n",
       "      <td>p429</td>\n",
       "      <td>0.363636</td>\n",
       "      <td>0.255691</td>\n",
       "      <td>3.626506</td>\n",
       "      <td>1.897063</td>\n",
       "      <td>3.570947</td>\n",
       "      <td>1.829704</td>\n",
       "    </tr>\n",
       "    <tr>\n",
       "      <th>p1065</th>\n",
       "      <td>0.039491</td>\n",
       "      <td>p2742</td>\n",
       "      <td>NaN</td>\n",
       "      <td>NaN</td>\n",
       "      <td>10.841289</td>\n",
       "      <td>4.949063</td>\n",
       "      <td>10.801887</td>\n",
       "      <td>4.946408</td>\n",
       "    </tr>\n",
       "    <tr>\n",
       "      <th>p4233</th>\n",
       "      <td>0.040000</td>\n",
       "      <td>p1653</td>\n",
       "      <td>NaN</td>\n",
       "      <td>NaN</td>\n",
       "      <td>10.793333</td>\n",
       "      <td>0.000000</td>\n",
       "      <td>10.833333</td>\n",
       "      <td>0.000000</td>\n",
       "    </tr>\n",
       "    <tr>\n",
       "      <th>p4311</th>\n",
       "      <td>0.163674</td>\n",
       "      <td>p1546</td>\n",
       "      <td>0.300000</td>\n",
       "      <td>0.384455</td>\n",
       "      <td>16.017442</td>\n",
       "      <td>4.990192</td>\n",
       "      <td>15.889007</td>\n",
       "      <td>4.888734</td>\n",
       "    </tr>\n",
       "    <tr>\n",
       "      <th>p2745</th>\n",
       "      <td>0.089577</td>\n",
       "      <td>p1378</td>\n",
       "      <td>0.425000</td>\n",
       "      <td>0.163144</td>\n",
       "      <td>3.745872</td>\n",
       "      <td>0.169604</td>\n",
       "      <td>3.685750</td>\n",
       "      <td>0.103201</td>\n",
       "    </tr>\n",
       "  </tbody>\n",
       "</table>\n",
       "<p>79 rows × 8 columns</p>\n",
       "</div>"
      ],
      "text/plain": [
       "       RowSimProd SimProd   ks.stat   ks.pval       medP       iqrP  \\\n",
       "Prod                                                                  \n",
       "p4254    0.278934    p876       NaN       NaN   9.740061   7.648240   \n",
       "p704     0.607384   p1974  0.388889  0.138869  19.512635  16.708795   \n",
       "p398     0.127756   p2314       NaN       NaN   9.533898   3.001996   \n",
       "p1570    0.172772   p3625       NaN       NaN  13.414634   4.551659   \n",
       "p4296    0.258865   p3097  0.400000  0.106338  15.118159   4.878196   \n",
       "...           ...     ...       ...       ...        ...        ...   \n",
       "p2538    0.087315    p429  0.363636  0.255691   3.626506   1.897063   \n",
       "p1065    0.039491   p2742       NaN       NaN  10.841289   4.949063   \n",
       "p4233    0.040000   p1653       NaN       NaN  10.793333   0.000000   \n",
       "p4311    0.163674   p1546  0.300000  0.384455  16.017442   4.990192   \n",
       "p2745    0.089577   p1378  0.425000  0.163144   3.745872   0.169604   \n",
       "\n",
       "            medS       iqrS  \n",
       "Prod                         \n",
       "p4254   9.513274   7.810635  \n",
       "p704   19.443867  16.105316  \n",
       "p398    9.619048   2.906753  \n",
       "p1570  13.514851   4.410922  \n",
       "p4296  15.233615   4.646504  \n",
       "...          ...        ...  \n",
       "p2538   3.570947   1.829704  \n",
       "p1065  10.801887   4.946408  \n",
       "p4233  10.833333   0.000000  \n",
       "p4311  15.889007   4.888734  \n",
       "p2745   3.685750   0.103201  \n",
       "\n",
       "[79 rows x 8 columns]"
      ]
     },
     "execution_count": 88,
     "metadata": {},
     "output_type": "execute_result"
    }
   ],
   "source": [
    "similar"
   ]
  },
  {
   "cell_type": "markdown",
   "id": "24d8524d",
   "metadata": {},
   "source": [
    "With the calculated similarity data, the median and iqr of the products for which similar products were calculated, can be replaced with the values from the SimProd product. They are stored in a seperate column here, to make it easier to preserve the original data."
   ]
  },
  {
   "cell_type": "code",
   "execution_count": null,
   "id": "33486ff7",
   "metadata": {},
   "outputs": [],
   "source": [
    "# get rare products from similar index\n",
    "rare_products = similar.index\n",
    "\n",
    "# reset index of similar and store in seperate variable\n",
    "similar_reset = similar.reset_index()\n",
    "\n",
    "# Mapping rare product to median and IQR\n",
    "med_map = dict(zip(similar_reset['Prod'], similar_reset['medS']))\n",
    "iqr_map = dict(zip(similar_reset['Prod'], similar_reset['iqrS']))\n",
    "\n",
    "# calculate new corrected median \n",
    "X_train['medP_corrected'] = X_train.apply(\n",
    "    lambda row: med_map[row['Prod']] if row['Prod'] in med_map else row['medP'],\n",
    "    axis=1\n",
    ")\n",
    "\n",
    "# calculate new corrected iqr \n",
    "X_train['iqr_corrected'] = X_train.apply(\n",
    "    lambda row: iqr_map[row['Prod']] if row['Prod'] in iqr_map else row['iqr'],\n",
    "    axis=1\n",
    ")"
   ]
  },
  {
   "cell_type": "markdown",
   "id": "d01930a5",
   "metadata": {},
   "source": [
    "Now to summarize, a boxplot analysis was used to mark outliers as fraud and after that, rare products were grouped by similarity to other products and then their median and iqr were replaced with the similar products values.\n",
    "\n",
    "In order to make any assumptions about outliers, a ranking will be created, but because the scales of different products vary, it is not feasable to just compare their values as they are. This problem can be solved using Normalized Distance to Typical Price (NDTP), which normalizes the deviation of each product, resulting in a unit-less value that can be ranked."
   ]
  },
  {
   "cell_type": "code",
   "execution_count": null,
   "id": "6d7b74ed",
   "metadata": {},
   "outputs": [],
   "source": [
    "X_train['NDTP'] = (X_train['Uprice'] - X_train['medP']) / X_train['iqr']\n",
    "X_train_sorted = X_train.sort_values('NDTP', ascending=False)"
   ]
  },
  {
   "cell_type": "markdown",
   "id": "0786e45e",
   "metadata": {},
   "source": [
    "## Semi-Supervised Learning Approaches\n"
   ]
  },
  {
   "cell_type": "markdown",
   "id": "9d9cac5e",
   "metadata": {},
   "source": [
    "In this section, some semi-supervised learning techniques are implemented, that try to deal with the problem of inbalance in the data. To start things off, a self supervised training is used. In this approach, a model is trained only on the labeled data that is available. After that, the most confident predictions will be added to the labeled data. This way, new labeled data can be created, which makes the model more balanced. Now let's start with a random forest model as baseline."
   ]
  },
  {
   "cell_type": "code",
   "execution_count": 36,
   "id": "446e1436",
   "metadata": {},
   "outputs": [
    {
     "ename": "NameError",
     "evalue": "name 'X_train_labeled' is not defined",
     "output_type": "error",
     "traceback": [
      "\u001b[31m---------------------------------------------------------------------------\u001b[39m",
      "\u001b[31mNameError\u001b[39m                                 Traceback (most recent call last)",
      "\u001b[36mCell\u001b[39m\u001b[36m \u001b[39m\u001b[32mIn[36]\u001b[39m\u001b[32m, line 4\u001b[39m\n\u001b[32m      1\u001b[39m threshhold = \u001b[32m0.95\u001b[39m \u001b[38;5;66;03m# 95% confidence threshhold for predictions\u001b[39;00m\n\u001b[32m      3\u001b[39m rf = RandomForestClassifier(n_estimators=\u001b[32m100\u001b[39m, random_state=\u001b[32m123\u001b[39m)\n\u001b[32m----> \u001b[39m\u001b[32m4\u001b[39m rf.fit(\u001b[43mX_train_labeled\u001b[49m, y_train_labeled) \u001b[38;5;66;03m# train on labeled data\u001b[39;00m\n\u001b[32m      6\u001b[39m pred = rf.predict_proba(unlabeled_df[X.columns])[:, \u001b[32m1\u001b[39m] \u001b[38;5;66;03m# predict unlabeled data \u001b[39;00m\n",
      "\u001b[31mNameError\u001b[39m: name 'X_train_labeled' is not defined"
     ]
    }
   ],
   "source": [
    "threshhold = 0.95 # 95% confidence threshhold for predictions\n",
    "\n",
    "rf = RandomForestClassifier(n_estimators=100, random_state=123)\n",
    "rf.fit(X_train_labeled, y_train_labeled) # train on labeled data\n",
    "\n",
    "pred = rf.predict_proba(unlabeled_df[X.columns])[:, 1] # predict unlabeled data "
   ]
  }
 ],
 "metadata": {
  "kernelspec": {
   "display_name": "global_env",
   "language": "python",
   "name": "python3"
  },
  "language_info": {
   "codemirror_mode": {
    "name": "ipython",
    "version": 3
   },
   "file_extension": ".py",
   "mimetype": "text/x-python",
   "name": "python",
   "nbconvert_exporter": "python",
   "pygments_lexer": "ipython3",
   "version": "3.11.11"
  }
 },
 "nbformat": 4,
 "nbformat_minor": 5
}
