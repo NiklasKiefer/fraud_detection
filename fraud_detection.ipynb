{
 "cells": [
  {
   "cell_type": "markdown",
   "id": "cc5e398f",
   "metadata": {},
   "source": [
    "# Project 3: Fraud Detection"
   ]
  },
  {
   "cell_type": "markdown",
   "id": "86ebcf70",
   "metadata": {},
   "source": [
    "In this third project, the main objective is to develop a fraud detection model capable of predicting fraudulent bank transactions. The implementation places particular emphasis on the following key areas:\n",
    "- Unsupervised learning\n",
    "- Semi-supervised learning\n",
    "- Dealing with class imbalance\n",
    "- Using advanced performance metrics to evaluate detection models under different inspection effort thresholds."
   ]
  },
  {
   "cell_type": "markdown",
   "id": "6245dec7",
   "metadata": {},
   "source": [
    "## Problem Understanding"
   ]
  },
  {
   "cell_type": "markdown",
   "id": "faed6f85",
   "metadata": {},
   "source": [
    "The subject of fraud has always been a problem for the financial sector and with the ongoing technological advance, the problem will only increase. According to the [ Alloy’s 2024 State of Fraud Benchmark Report](https://www.alloy.com/state-of-fraud-benchmark-report-2024), which has asked more than 400 descision-makers in fraud-related roles, 57% of banks, fintechs, and credit unions lost over $500K in direct fraud losses in 2023. These figures reflect only the direct losses from fraud. That is, the actual amounts successfully stolen through fraudulent activity. \n",
    "\n",
    "In the UK, 10% of companies have lost between €1 and €100,000; 26% between €100,001 and €500,000; 34% between €500,001 and €1,000,000; 24% between €1,000,001 and €10,000,000; and 1% have suffered losses exceeding €10,000,000 due to fraud. Only 7 % reported no fraud loss, or simply don't know if they have.\n",
    "\n",
    "Around 60% of the respondents reported an increase in the number of fraud attempts in consumer accounts compared to the previous year. Meanwhile, just over half the respondends have reported an increase in fraud attempts in business accounts.\n",
    "\n",
    "The [UK Finance Annual Fraud Report 2022](https://www.ukfinance.org.uk/system/files/2023-05/Annual%20Fraud%20Report%202023_0.pdf) reported a net total loss £1.2 bn across the collective banking and finance industry in 2022 alone. This shows the damaging effects of fraud and emphazises the importance of fraud detection to prevent the enormous amounts of anual loss.\n",
    "\n",
    "While the field has developed rapidly in the last few years, especially through the rise of artificial intelligence, there are still some challenges for successful fraud detection models. According to this article by the [Computer Science & IT Research Journal](https://fepbl.com/index.php/csitrj/article/view/1252), one major issue is the quality of datasets, especially due to the imbalance between fraudulent and legitimate activities, which can lead to biased or inaccurate predictions. Additionally, datasets suffer limited diversity or hidden biases, which skew model performances and undermine fairness. \n",
    "\n",
    "Overall, the problem of fraud and the importance of dealing with it through fraud detection systems is clear. The following sections of this notebook will focus on explring the data, understanding how to deal with class imbalance, as well as building and evaluating a fraud detection system using advanced techniques using unsupervised and semi-supervised learning."
   ]
  },
  {
   "cell_type": "code",
   "execution_count": 23,
   "id": "08db16c7",
   "metadata": {},
   "outputs": [],
   "source": [
    "# Includes\n",
    "from datetime import datetime\n",
    "import pandas as pd\n",
    "import numpy as np\n",
    "import seaborn as sns\n",
    "\n",
    "import matplotlib.pyplot as plt\n",
    "\n",
    "from sklearn.model_selection import train_test_split"
   ]
  },
  {
   "cell_type": "markdown",
   "id": "00139087",
   "metadata": {},
   "source": [
    "## Understanding the data"
   ]
  },
  {
   "cell_type": "markdown",
   "id": "07aa8faf",
   "metadata": {},
   "source": [
    "The first thing to do is to take a closer look at the data that will be used to train the model later. Then, the data will be split into a test-train-val split before any further analysis."
   ]
  },
  {
   "cell_type": "code",
   "execution_count": 10,
   "id": "00f40b92",
   "metadata": {},
   "outputs": [
    {
     "data": {
      "text/html": [
       "<div>\n",
       "<style scoped>\n",
       "    .dataframe tbody tr th:only-of-type {\n",
       "        vertical-align: middle;\n",
       "    }\n",
       "\n",
       "    .dataframe tbody tr th {\n",
       "        vertical-align: top;\n",
       "    }\n",
       "\n",
       "    .dataframe thead th {\n",
       "        text-align: right;\n",
       "    }\n",
       "</style>\n",
       "<table border=\"1\" class=\"dataframe\">\n",
       "  <thead>\n",
       "    <tr style=\"text-align: right;\">\n",
       "      <th></th>\n",
       "      <th>ID</th>\n",
       "      <th>Prod</th>\n",
       "      <th>Quant</th>\n",
       "      <th>Val</th>\n",
       "      <th>Insp</th>\n",
       "    </tr>\n",
       "  </thead>\n",
       "  <tbody>\n",
       "    <tr>\n",
       "      <th>1</th>\n",
       "      <td>v1</td>\n",
       "      <td>p1</td>\n",
       "      <td>182.0</td>\n",
       "      <td>1665.0</td>\n",
       "      <td>unkn</td>\n",
       "    </tr>\n",
       "    <tr>\n",
       "      <th>2</th>\n",
       "      <td>v2</td>\n",
       "      <td>p1</td>\n",
       "      <td>3072.0</td>\n",
       "      <td>8780.0</td>\n",
       "      <td>unkn</td>\n",
       "    </tr>\n",
       "    <tr>\n",
       "      <th>3</th>\n",
       "      <td>v3</td>\n",
       "      <td>p1</td>\n",
       "      <td>20393.0</td>\n",
       "      <td>76990.0</td>\n",
       "      <td>unkn</td>\n",
       "    </tr>\n",
       "    <tr>\n",
       "      <th>4</th>\n",
       "      <td>v4</td>\n",
       "      <td>p1</td>\n",
       "      <td>112.0</td>\n",
       "      <td>1100.0</td>\n",
       "      <td>unkn</td>\n",
       "    </tr>\n",
       "    <tr>\n",
       "      <th>5</th>\n",
       "      <td>v3</td>\n",
       "      <td>p1</td>\n",
       "      <td>6164.0</td>\n",
       "      <td>20260.0</td>\n",
       "      <td>unkn</td>\n",
       "    </tr>\n",
       "    <tr>\n",
       "      <th>...</th>\n",
       "      <td>...</td>\n",
       "      <td>...</td>\n",
       "      <td>...</td>\n",
       "      <td>...</td>\n",
       "      <td>...</td>\n",
       "    </tr>\n",
       "    <tr>\n",
       "      <th>411814</th>\n",
       "      <td>v5918</td>\n",
       "      <td>p4126</td>\n",
       "      <td>113.0</td>\n",
       "      <td>9330.0</td>\n",
       "      <td>unkn</td>\n",
       "    </tr>\n",
       "    <tr>\n",
       "      <th>411815</th>\n",
       "      <td>v2540</td>\n",
       "      <td>p4126</td>\n",
       "      <td>118.0</td>\n",
       "      <td>3355.0</td>\n",
       "      <td>unkn</td>\n",
       "    </tr>\n",
       "    <tr>\n",
       "      <th>411816</th>\n",
       "      <td>v5896</td>\n",
       "      <td>p4127</td>\n",
       "      <td>143.0</td>\n",
       "      <td>1835.0</td>\n",
       "      <td>unkn</td>\n",
       "    </tr>\n",
       "    <tr>\n",
       "      <th>411817</th>\n",
       "      <td>v1796</td>\n",
       "      <td>p4127</td>\n",
       "      <td>102.0</td>\n",
       "      <td>1445.0</td>\n",
       "      <td>unkn</td>\n",
       "    </tr>\n",
       "    <tr>\n",
       "      <th>411818</th>\n",
       "      <td>v2540</td>\n",
       "      <td>p4127</td>\n",
       "      <td>106.0</td>\n",
       "      <td>1275.0</td>\n",
       "      <td>unkn</td>\n",
       "    </tr>\n",
       "  </tbody>\n",
       "</table>\n",
       "<p>401146 rows × 5 columns</p>\n",
       "</div>"
      ],
      "text/plain": [
       "           ID   Prod    Quant      Val  Insp\n",
       "1          v1     p1    182.0   1665.0  unkn\n",
       "2          v2     p1   3072.0   8780.0  unkn\n",
       "3          v3     p1  20393.0  76990.0  unkn\n",
       "4          v4     p1    112.0   1100.0  unkn\n",
       "5          v3     p1   6164.0  20260.0  unkn\n",
       "...       ...    ...      ...      ...   ...\n",
       "411814  v5918  p4126    113.0   9330.0  unkn\n",
       "411815  v2540  p4126    118.0   3355.0  unkn\n",
       "411816  v5896  p4127    143.0   1835.0  unkn\n",
       "411817  v1796  p4127    102.0   1445.0  unkn\n",
       "411818  v2540  p4127    106.0   1275.0  unkn\n",
       "\n",
       "[401146 rows x 5 columns]"
      ]
     },
     "execution_count": 10,
     "metadata": {},
     "output_type": "execute_result"
    }
   ],
   "source": [
    "# Load data\n",
    "df = pd.read_csv(\"data/sales.csv\")\n",
    "df = df.set_index('Unnamed: 0') # set index\n",
    "df.index.name = None\n",
    "df"
   ]
  },
  {
   "cell_type": "code",
   "execution_count": 17,
   "id": "10169033",
   "metadata": {},
   "outputs": [
    {
     "data": {
      "text/plain": [
       "array(['unkn', 'ok', 'fraud'], dtype=object)"
      ]
     },
     "execution_count": 17,
     "metadata": {},
     "output_type": "execute_result"
    }
   ],
   "source": [
    "df[\"Insp\"].unique()"
   ]
  },
  {
   "cell_type": "code",
   "execution_count": 22,
   "id": "604c7a02",
   "metadata": {},
   "outputs": [
    {
     "data": {
      "image/png": "[encoded data removed]",
      "text/plain": [
       "<Figure size 640x480 with 1 Axes>"
      ]
     },
     "metadata": {},
     "output_type": "display_data"
    }
   ],
   "source": [
    "counts = df[\"Insp\"].value_counts() # get value counts for each unique \"Insp\" value\n",
    "\n",
    "ax = counts.plot(kind=\"bar\") # create plot\n",
    "\n",
    "plt.xlabel(\"Inspection Status\")\n",
    "plt.ylabel(\"Count\")\n",
    "plt.title(\"Frequency of Inspection Status\")\n",
    "plt.xticks(rotation=0)\n",
    "\n",
    "# plot actual values\n",
    "for i, count in enumerate(counts):\n",
    "    plt.text(i, count + 0.5, str(count), ha='center', va='bottom', fontsize=10)\n",
    "\n",
    "plt.tight_layout()\n",
    "plt.show()\n"
   ]
  },
  {
   "cell_type": "markdown",
   "id": "75647520",
   "metadata": {},
   "source": [
    "The data is consists of a transaction Id(\"ID\"), the products(\"Prod\") bought with a quantity(\"Quant\") and a the corresponding value(\"Val\") spent during the transaction. A inspected value(\"Insp\") flags the transaction as 'ok', 'fraud', or as 'unknown'. When looking at the value distribution, it can be seen that there is a significant amount of unknown data, and a small amount of data that is actually flagged as okay or fraudulent. This data imbalance needs to be addressed later.\n",
    "\n",
    "For now, a portion of the labeled data will be used for the test data, while a combination of labeled and unlabeled data will be used for training."
   ]
  },
  {
   "cell_type": "code",
   "execution_count": null,
   "id": "d73e8e25",
   "metadata": {},
   "outputs": [],
   "source": [
    "# Seperate labeled and unlabeled data\n",
    "labeled_df = df[df[\"Insp\"].isin([\"ok\", \"fraud\"])].copy()\n",
    "unlabeled_df = df[df[\"Insp\"] == \"unkn\"].copy()\n",
    "\n",
    "# split into train and test set for labeled data\n",
    "train_labeled, test_labeled = train_test_split(\n",
    "    labeled_df,\n",
    "    test_size=0.25, # 75% - 25% split\n",
    "    random_state=123,\n",
    "    stratify=labeled_df[\"Insp\"]  # stratifying for maximum class balance\n",
    ")"
   ]
  }
 ],
 "metadata": {
  "kernelspec": {
   "display_name": "global_env",
   "language": "python",
   "name": "python3"
  },
  "language_info": {
   "codemirror_mode": {
    "name": "ipython",
    "version": 3
   },
   "file_extension": ".py",
   "mimetype": "text/x-python",
   "name": "python",
   "nbconvert_exporter": "python",
   "pygments_lexer": "ipython3",
   "version": "3.11.11"
  }
 },
 "nbformat": 4,
 "nbformat_minor": 5
}
